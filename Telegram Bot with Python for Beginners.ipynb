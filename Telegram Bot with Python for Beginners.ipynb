{
 "cells": [
  {
   "cell_type": "markdown",
   "id": "9487e2a7",
   "metadata": {},
   "source": [
    "# Telegram Bot with Python for Beginners\n",
    "A bot is a software application programmed to perform certain tasks. The robots are automated, which means that they operate according to their instructions without a human user needing to start them. Bots often mimic or replace the behaviour of a human user. In this article, I will create a Telegram bot with Python, by using the telegram API.\n",
    "\n",
    "To create a Telegram Bot using Python, you need to go through some steps to get a telegram bot API from the BotFather account on Telegram. BotFather is simply s Bot which helps in creating more bots by providing a unique API. So before using python to create our Telegram bot, we need to go through some steps to get the API."
   ]
  },
  {
   "cell_type": "markdown",
   "id": "61687197",
   "metadata": {},
   "source": [
    "Steps to Get the Telegram Bot API\n",
    "First, create an account on telegram if you don’t have an account. After making your account search for BotFather, which is an official telegram bot that provides API to create more bots. When you will open the chat just write /start and send. The BatFather will reply you with a long text without reading the text you can type Newbot.\n",
    "\n",
    "Now it will reply you again with a long text, asking about a good name for you Telegram bot. You can write any name on it. Now the next step is to give a username to your bot which should be in a format Namebot or Name_bot. And the main thing to notice in this step is that your username should be a unique one, it should not match any other username all around the world. Now after typing a unique username, it will send you an API key between a long message, you need to copy that username and get started with Python."
   ]
  },
  {
   "cell_type": "markdown",
   "id": "7c54bc45",
   "metadata": {},
   "source": [
    "# Telegram Bot with Python\n",
    "Now, we have the API key to build our telegram bot, the next step is to install a package known as telegram, which can be easily installed by using the pip command in your command prompt or terminal – pip install python-telegram-bot.\n",
    "\n",
    "After successfully installing the package, now let’s import the required packages and get started to make a Telegram Bot with Python. We only need the telegram package for this task, I will import it and prepare our program to read our API Key:"
   ]
  },
  {
   "cell_type": "code",
   "execution_count": 9,
   "id": "486af9f2",
   "metadata": {},
   "outputs": [
    {
     "ename": "SyntaxError",
     "evalue": "invalid syntax (Temp/ipykernel_12980/1447115434.py, line 1)",
     "output_type": "error",
     "traceback": [
      "\u001b[1;36m  File \u001b[1;32m\"C:\\Users\\hp\\AppData\\Local\\Temp/ipykernel_12980/1447115434.py\"\u001b[1;36m, line \u001b[1;32m1\u001b[0m\n\u001b[1;33m    from telegram.ext import\u001b[0m\n\u001b[1;37m                             ^\u001b[0m\n\u001b[1;31mSyntaxError\u001b[0m\u001b[1;31m:\u001b[0m invalid syntax\n"
     ]
    }
   ],
   "source": [
    "import telegram\n",
    "bot = telegram.bot(token='TOKEN') #Replace TOKEN with your token string"
   ]
  },
  {
   "cell_type": "markdown",
   "id": "c2dfbba2",
   "metadata": {},
   "source": [
    "Now that everything is working, let’s follow the tradition and create a Hello World program. I will simply program our chatbot here with a command on which our telegram bot will respond with the message “Hello, World”:"
   ]
  },
  {
   "cell_type": "code",
   "execution_count": 2,
   "id": "011318e7",
   "metadata": {},
   "outputs": [
    {
     "ename": "ModuleNotFoundError",
     "evalue": "No module named 'telegram'",
     "output_type": "error",
     "traceback": [
      "\u001b[1;31m---------------------------------------------------------------------------\u001b[0m",
      "\u001b[1;31mModuleNotFoundError\u001b[0m                       Traceback (most recent call last)",
      "\u001b[1;32m~\\AppData\\Local\\Temp/ipykernel_12980/4111808055.py\u001b[0m in \u001b[0;36m<module>\u001b[1;34m\u001b[0m\n\u001b[1;32m----> 1\u001b[1;33m \u001b[1;32mfrom\u001b[0m \u001b[0mtelegram\u001b[0m\u001b[1;33m.\u001b[0m\u001b[0mext\u001b[0m \u001b[1;32mimport\u001b[0m \u001b[0mUpdater\u001b[0m\u001b[1;33m,\u001b[0m \u001b[0mCommandHandler\u001b[0m\u001b[1;33m,\u001b[0m \u001b[0mMessageHandler\u001b[0m\u001b[1;33m,\u001b[0m \u001b[0mFilters\u001b[0m\u001b[1;33m\u001b[0m\u001b[1;33m\u001b[0m\u001b[0m\n\u001b[0m\u001b[0;32m      2\u001b[0m \u001b[0mupdater\u001b[0m \u001b[1;33m=\u001b[0m \u001b[0mUpdater\u001b[0m\u001b[1;33m(\u001b[0m\u001b[0mtoken\u001b[0m\u001b[1;33m=\u001b[0m\u001b[1;34m'TOKEN'\u001b[0m\u001b[1;33m,\u001b[0m \u001b[0muse_context\u001b[0m\u001b[1;33m=\u001b[0m\u001b[1;32mTrue\u001b[0m\u001b[1;33m)\u001b[0m \u001b[1;31m#Replace TOKEN with your token string\u001b[0m\u001b[1;33m\u001b[0m\u001b[1;33m\u001b[0m\u001b[0m\n\u001b[0;32m      3\u001b[0m \u001b[0mdispatcher\u001b[0m \u001b[1;33m=\u001b[0m \u001b[0mupdater\u001b[0m\u001b[1;33m.\u001b[0m\u001b[0mdispatcher\u001b[0m\u001b[1;33m\u001b[0m\u001b[1;33m\u001b[0m\u001b[0m\n",
      "\u001b[1;31mModuleNotFoundError\u001b[0m: No module named 'telegram'"
     ]
    }
   ],
   "source": [
    "from telegram.ext import Updater, CommandHandler, MessageHandler, Filters\n",
    "updater = Updater(token='TOKEN', use_context=True) #Replace TOKEN with your token string\n",
    "dispatcher = updater.dispatcher"
   ]
  },
  {
   "cell_type": "code",
   "execution_count": 3,
   "id": "4c0ae407",
   "metadata": {},
   "outputs": [],
   "source": [
    "#Now let’s create a hello function that sends the desired text message through the bot:\n",
    "def hello(update, context):\n",
    "    context.bot.send_message(chat_id=update.effective_chat.id, text='Hello, World')"
   ]
  },
  {
   "cell_type": "markdown",
   "id": "a331ab18",
   "metadata": {},
   "source": [
    "We now use a CommandHandler and register it in the dispatcher. Basically, we bind the / hello command with the hello () function:"
   ]
  },
  {
   "cell_type": "code",
   "execution_count": 4,
   "id": "ac62e3ac",
   "metadata": {},
   "outputs": [
    {
     "ename": "NameError",
     "evalue": "name 'CommandHandler' is not defined",
     "output_type": "error",
     "traceback": [
      "\u001b[1;31m---------------------------------------------------------------------------\u001b[0m",
      "\u001b[1;31mNameError\u001b[0m                                 Traceback (most recent call last)",
      "\u001b[1;32m~\\AppData\\Local\\Temp/ipykernel_12980/3094593242.py\u001b[0m in \u001b[0;36m<module>\u001b[1;34m\u001b[0m\n\u001b[1;32m----> 1\u001b[1;33m \u001b[0mhello_handler\u001b[0m \u001b[1;33m=\u001b[0m \u001b[0mCommandHandler\u001b[0m\u001b[1;33m(\u001b[0m\u001b[1;34m'hello'\u001b[0m\u001b[1;33m,\u001b[0m \u001b[0mhello\u001b[0m\u001b[1;33m)\u001b[0m\u001b[1;33m\u001b[0m\u001b[1;33m\u001b[0m\u001b[0m\n\u001b[0m\u001b[0;32m      2\u001b[0m \u001b[0mdispatcher\u001b[0m\u001b[1;33m.\u001b[0m\u001b[0madd_handler\u001b[0m\u001b[1;33m(\u001b[0m\u001b[0mhello_handler\u001b[0m\u001b[1;33m)\u001b[0m\u001b[1;33m\u001b[0m\u001b[1;33m\u001b[0m\u001b[0m\n",
      "\u001b[1;31mNameError\u001b[0m: name 'CommandHandler' is not defined"
     ]
    }
   ],
   "source": [
    "hello_handler = CommandHandler('hello', hello)\n",
    "dispatcher.add_handler(hello_handler)"
   ]
  },
  {
   "cell_type": "markdown",
   "id": "4547bfb9",
   "metadata": {},
   "source": [
    "And that’s it. To start our bot, add this code at the end of the file:"
   ]
  },
  {
   "cell_type": "code",
   "execution_count": 5,
   "id": "15b26a51",
   "metadata": {},
   "outputs": [
    {
     "ename": "NameError",
     "evalue": "name 'updater' is not defined",
     "output_type": "error",
     "traceback": [
      "\u001b[1;31m---------------------------------------------------------------------------\u001b[0m",
      "\u001b[1;31mNameError\u001b[0m                                 Traceback (most recent call last)",
      "\u001b[1;32m~\\AppData\\Local\\Temp/ipykernel_12980/2432329330.py\u001b[0m in \u001b[0;36m<module>\u001b[1;34m\u001b[0m\n\u001b[1;32m----> 1\u001b[1;33m \u001b[0mupdater\u001b[0m\u001b[1;33m.\u001b[0m\u001b[0mstart_polling\u001b[0m\u001b[1;33m(\u001b[0m\u001b[1;33m)\u001b[0m\u001b[1;33m\u001b[0m\u001b[1;33m\u001b[0m\u001b[0m\n\u001b[0m",
      "\u001b[1;31mNameError\u001b[0m: name 'updater' is not defined"
     ]
    }
   ],
   "source": [
    "updater.start_polling()"
   ]
  },
  {
   "cell_type": "markdown",
   "id": "d124a636",
   "metadata": {},
   "source": [
    "Now, run the code and write /hello in you your telegram messenger to your telegram bot. It will reply with the text “Hello World”."
   ]
  },
  {
   "cell_type": "markdown",
   "id": "7ab0bf74",
   "metadata": {},
   "source": [
    "COVID-19 Telegram Bot with Python\n",
    "Now, let’s build our program to get information related to the COVID-19 to get results from a simple text. Now here, you need to import two modules here known as requests and json. Now let’s import these two modules and build a COVID-19 telegram Bot with Python:"
   ]
  },
  {
   "cell_type": "code",
   "execution_count": 7,
   "id": "236c5b81",
   "metadata": {},
   "outputs": [
    {
     "ename": "SyntaxError",
     "evalue": "invalid non-printable character U+200B (Temp/ipykernel_12980/1442116793.py, line 11)",
     "output_type": "error",
     "traceback": [
      "\u001b[1;36m  File \u001b[1;32m\"C:\\Users\\hp\\AppData\\Local\\Temp/ipykernel_12980/1442116793.py\"\u001b[1;36m, line \u001b[1;32m11\u001b[0m\n\u001b[1;33m    ​\u001b[0m\n\u001b[1;37m    ^\u001b[0m\n\u001b[1;31mSyntaxError\u001b[0m\u001b[1;31m:\u001b[0m invalid non-printable character U+200B\n"
     ]
    }
   ],
   "source": [
    "import requests\n",
    "import json\n",
    "def summary(update, context):\n",
    "    response = requests.get('https://api.covid19api.com/summary')\n",
    "    if(response.status_code==200): #Everything went okay, we have the data\n",
    "        data = response.json()\n",
    "        print(data['Global'])\n",
    "        context.bot.send_message(chat_id=update.effective_chat.id, text=data['Global'])\n",
    "    else: #something went wrong\n",
    "        context.bot.send_message(chat_id=update.effective_chat.id, text=\"Error, something went wrong.\")\n",
    "​\n",
    "corona_summary_handler = CommandHandler('summary', summary)\n",
    "dispatcher.add_handler(corona_summary_handler)"
   ]
  },
  {
   "cell_type": "code",
   "execution_count": null,
   "id": "b3905f86",
   "metadata": {},
   "outputs": [],
   "source": []
  }
 ],
 "metadata": {
  "kernelspec": {
   "display_name": "Python 3 (ipykernel)",
   "language": "python",
   "name": "python3"
  },
  "language_info": {
   "codemirror_mode": {
    "name": "ipython",
    "version": 3
   },
   "file_extension": ".py",
   "mimetype": "text/x-python",
   "name": "python",
   "nbconvert_exporter": "python",
   "pygments_lexer": "ipython3",
   "version": "3.9.7"
  }
 },
 "nbformat": 4,
 "nbformat_minor": 5
}
