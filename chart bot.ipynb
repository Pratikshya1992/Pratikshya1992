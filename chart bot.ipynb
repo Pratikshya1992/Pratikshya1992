{
 "cells": [
  {
   "cell_type": "markdown",
   "id": "3d72eeaa",
   "metadata": {},
   "source": [
    "# Chatbot using Python\n"
   ]
  },
  {
   "cell_type": "markdown",
   "id": "7a939bc5",
   "metadata": {},
   "source": [
    "A Chatbot is an application that interacts with users like a human. Chatbots are typically used to resolve the most common queries that a business receives from its customers daily. "
   ]
  },
  {
   "cell_type": "markdown",
   "id": "d1245f4a",
   "metadata": {},
   "source": [
    "What is a Chatbot?\n",
    "A Chatbot is an AI application that mimics human conversations. It is widely used by companies to solve the most common problems they receive from customers daily. For example, if you want to know the CRN of your bank account, a chatbot will assist you by asking for your bank details, then it will give you your CRN. But if you want to know something that is not that common, like asking how you can turn your account into a joint account, chances are the authorized employee will assist you.\n",
    "\n",
    "So while creating a chatbot for any company you should know what that company deals in and what problems their customers get daily. In the section below, I will take you through how to create a chatbot using Python.\n",
    "\n",
    "Chatbot with Python"
   ]
  },
  {
   "cell_type": "markdown",
   "id": "3fe37d41",
   "metadata": {},
   "source": [
    "I hope you now have understood what are chatbots and why so many companies use them to solve the most common problems of their customers. Now let’s see how to create a chatbot with Python. Here, I will be using the NLTK library in Python which is one of the best Python libraries for any task of natural language processing:"
   ]
  },
  {
   "cell_type": "code",
   "execution_count": null,
   "id": "1b863786",
   "metadata": {},
   "outputs": [],
   "source": [
    "from nltk.chat.util import Chat, reflections"
   ]
  },
  {
   "cell_type": "code",
   "execution_count": null,
   "id": "75242b63",
   "metadata": {},
   "outputs": [],
   "source": [
    "#Pairs is a list of patterns and responses.\n",
    "pairs = [\n",
    "    [\n",
    "        r\"(.*)my name is (.*)\",\n",
    "        [\"Hello %2, How are you today ?\",]\n",
    "    ],\n",
    "    [\n",
    "        r\"(.*)help(.*) \",\n",
    "        [\"I can help you \",]\n",
    "    ],\n",
    "     [\n",
    "        r\"(.*) your name ?\",\n",
    "        [\"My name is theprogrammer, but you can just call me robot and I'm a chatbot .\",]\n",
    "    ],\n",
    "    [\n",
    "        r\"how are you (.*) ?\",\n",
    "        [\"I'm doing very well\", \"i am great !\"]\n",
    "    ],\n",
    "    [\n",
    "        r\"sorry (.*)\",\n",
    "        [\"Its alright\",\"Its OK, never mind that\",]\n",
    "    ],\n",
    "    [\n",
    "        r\"i'm (.*) (good|well|okay|ok)\",\n",
    "        [\"Nice to hear that\",\"Alright, great !\",]\n",
    "    ],\n",
    "    [\n",
    "        r\"(hi|hey|hello|hola|holla)(.*)\",\n",
    "        [\"Hello\", \"Hey there\",]\n",
    "    ],\n",
    "    [\n",
    "        r\"what (.*) want ?\",\n",
    "        [\"Make me an offer I can't refuse\",]\n",
    "        \n",
    "    ],\n",
    "    [\n",
    "        r\"(.*)created(.*)\",\n",
    "        [\"Pratikshya moharana created me using Python's NLTK library \",\"top secret ;)\",]\n",
    "    ],\n",
    "    [\n",
    "        r\"(.*) (location|city) ?\",\n",
    "        ['Odisha, India',]\n",
    "    ],\n",
    "    [\n",
    "        r\"(.*)raining in (.*)\",\n",
    "        [\"No rain in the past 4 days here in %2\",\"In %2 there is a 50% chance of rain\",]\n",
    "    ],\n",
    "    [\n",
    "        r\"how (.*) health (.*)\",\n",
    "        [\"Health is very important, but I am a computer, so I don't need to worry about my health \",]\n",
    "    ],\n",
    "    [\n",
    "        r\"(.*)(sports|game|sport)(.*)\",\n",
    "        [\"I'm a very big fan of Cricket\",]\n",
    "    ],\n",
    "    [\n",
    "        r\"who (.*) (Cricketer|Batsman)?\",\n",
    "        [\"Virat Kohli\"]\n",
    "    ],\n",
    "    [\n",
    "        r\"quit\",\n",
    "        [\"Bye for now. See you soon :) \",\"It was nice talking to you. See you soon :)\"]\n",
    "    ],\n",
    "    [\n",
    "        r\"(.*)\",\n",
    "        ['That is nice to hear']\n",
    "    ],\n",
    "]"
   ]
  },
  {
   "cell_type": "markdown",
   "id": "2028488c",
   "metadata": {},
   "source": [
    "Now let’s run this program and interact with the chatbot by using some of the queries related to the queries mentioned in the above list:"
   ]
  },
  {
   "cell_type": "code",
   "execution_count": null,
   "id": "3e7c449b",
   "metadata": {},
   "outputs": [],
   "source": [
    "#default message at the start of chat\n",
    "print(\"Hi, I'm theprogrammer and I like to chat\\nPlease type lowercase English language to start a conversation. Type quit to leave \")\n",
    "#Create Chat Bot\n",
    "chat = Chat(pairs, reflections)\n",
    "#Start conversation\n",
    "chat.converse()"
   ]
  },
  {
   "cell_type": "markdown",
   "id": "36453159",
   "metadata": {},
   "source": [
    "# Deploy a Chatbot with Python, HTML, and CSS"
   ]
  },
  {
   "cell_type": "markdown",
   "id": "e7488395",
   "metadata": {},
   "source": [
    "A Chatbot is a computer program which is programmed to interact with a human. A chatbot is designed to reply to a human user based on their queries and conversations. If you think chatbots are a new technology, you’re wrong. The first chatbot, Eliza, was built in 1966 at MIT’s Artificial Intelligence Laboratory by Joseph Weizenbaum to mimic human conversations."
   ]
  },
  {
   "cell_type": "markdown",
   "id": "155ade4f",
   "metadata": {},
   "source": [
    "What is the Chatterbot Library in Python?\n",
    "Chatterbot is a Python library that generates responses for users. It uses a lot of pre-trained machine learning algorithms to give a variety of responses. It’s easy to create chatbots using the chatterbot library in Python. The chatbot should be designed to be language-independent. He must be trained in several languages. The chatbot is made up of data provided by the user.\n",
    "How to Deploy a Chatbot?\n",
    "In python, we have Flask, which is useful in the tasks of web development of any program. In one of my previous articles, I deployed a Machine Learning model using flask, I will use the same method to deploy a chatbot.\n",
    "\n",
    "As I am going to deploy chatbot as a web application, so it is not possible to deploy it without the use of HTML and CSS as these two are the primary packages when it comes to the tasks of web development. So, I will recommend you to learn HTML and CSS also if you are planning to work as a developer."
   ]
  },
  {
   "cell_type": "markdown",
   "id": "36673658",
   "metadata": {},
   "source": [
    "How to Deploy a Chatbot?\n",
    "In python, we have Flask, which is useful in the tasks of web development of any program. In one of my previous articles, I deployed a Machine Learning model using flask, I will use the same method to deploy a chatbot.\n",
    "\n",
    "As I am going to deploy chatbot as a web application, so it is not possible to deploy it without the use of HTML and CSS as these two are the primary packages when it comes to the tasks of web development."
   ]
  },
  {
   "cell_type": "markdown",
   "id": "c6bdc442",
   "metadata": {},
   "source": [
    "Now, let’s code to build and deploy a chatbot. I will start with the HTML and CSS part, as it will work as the base of our chatbot, without the base we cannot start with the project. So now let’s start with the code:"
   ]
  },
  {
   "cell_type": "code",
   "execution_count": null,
   "id": "1f682836",
   "metadata": {},
   "outputs": [],
   "source": [
    "index.html"
   ]
  },
  {
   "cell_type": "code",
   "execution_count": null,
   "id": "6d9eb77e",
   "metadata": {},
   "outputs": [],
   "source": [
    "<!DOCTYPE html>\n",
    "<html>\n",
    "<head>\n",
    "    <meta charset=\"utf-8\">\n",
    "    <meta name=\"viewport\" content=\"width=device-width, initial-scale=1, shrink-to-fit=no\">\n",
    "    <link rel=\"stylesheet\" href=\"https://maxcdn.bootstrapcdn.com/bootstrap/4.3.1/css/bootstrap.min.css\">\n",
    "    <link rel=\"stylesheet\" href=\"/static/style.css\">\n",
    "    <script src=\"https://ajax.googleapis.com/ajax/libs/jquery/3.2.1/jquery.min.js\"></script>\n",
    "</head>\n",
    "<body>\n",
    "    <h1 class=\"jumbotron text-center\">AI Chatbot with Python</h1>\n",
    "<div class=\"container\">\n",
    "    <div class=\"row\">\n",
    "        <div class=\"col-sm-6 offset-sm-3\">\n",
    "            <div id=\"chatbox\" class=\"border border-success\">\n",
    "                <p class=\"botText\"><span>Hi! I'm Chatterbot</span></p>\n",
    "            </div>\n",
    "            <div id=\"userInput\">\n",
    "                <input id=\"textInput\" class=\"form-control\" type=\"text\" name=\"msg\" placeholder=\"Type Your Message Here\">\n",
    "                <input id=\"buttonInput\" class=\"btn btn-success form-control\" type=\"submit\" value=\"Send\">\n",
    "            </div>\n",
    "        </div>\n",
    "    </div>\n",
    "\n",
    "<script>\n",
    "    function getResponse() {\n",
    "        let userText = $(\"#textInput\").val();\n",
    "        let userHtml = '<p class=\"userText\"><span>' + userText + '</span></p>';\n",
    "        $(\"#textInput\").val(\"\");\n",
    "        $(\"#chatbox\").append(userHtml);\n",
    "        document.getElementById('userInput').scrollIntoView({block: 'start', behavior: 'smooth'});\n",
    "        $.get(\"/get\", { msg: userText }).done(function(data) {\n",
    "        var botHtml = '<p class=\"botText\"><span>' + data + '</span></p>';\n",
    "        $(\"#chatbox\").append(botHtml);\n",
    "        document.getElementById('userInput').scrollIntoView({block: 'start', behavior: 'smooth'});\n",
    "});\n",
    "}\n",
    "    $(\"#textInput\").keypress(function(e) {\n",
    "    //if enter key is pressed\n",
    "        if(e.which == 13) {\n",
    "            getResponse();\n",
    "        }\n",
    "    });\n",
    "    $(\"#buttonInput\").click(function() {\n",
    "        getResponse();\n",
    "    });\n",
    "    </script>\n",
    "    <script src=\"https://ajax.googleapis.com/ajax/libs/jquery/3.4.1/jquery.min.js\"></script>\n",
    "    <script src=\"https://cdnjs.cloudflare.com/ajax/libs/popper.js/1.14.7/umd/popper.min.js\"></script>\n",
    "    <script src=\"https://maxcdn.bootstrapcdn.com/bootstrap/4.3.1/js/bootstrap.min.js\"></script>\n",
    "</div>\n",
    "</body>\n",
    "</html>"
   ]
  },
  {
   "cell_type": "markdown",
   "id": "348c5477",
   "metadata": {},
   "source": [
    "style.css"
   ]
  },
  {
   "cell_type": "code",
   "execution_count": null,
   "id": "56eeb75b",
   "metadata": {},
   "outputs": [],
   "source": [
    "#textInput {\n",
    "    border: none;\n",
    "    border-bottom: 3px solid aqua;\n",
    "}\n",
    "\n",
    ".userText {\n",
    "    color: white;\n",
    "    font-family: monospace;\n",
    "    font-size: 17px;\n",
    "    text-align: right;\n",
    "    line-height: 30px;\n",
    "}\n",
    ".userText span {\n",
    "    background-color: #009688;\n",
    "    padding: 10px;\n",
    "    border-radius: 2px;\n",
    "}\n",
    ".botText {\n",
    "    color: white;\n",
    "    font-family: monospace;\n",
    "    font-size: 17px;\n",
    "    text-align: left;\n",
    "    line-height: 30px;\n",
    "}\n",
    ".botText span {\n",
    "    background-color: #EF5350;\n",
    "    padding: 10px;\n",
    "    border-radius: 2px;\n",
    "}"
   ]
  },
  {
   "cell_type": "markdown",
   "id": "9fe11f55",
   "metadata": {},
   "source": [
    "app.py"
   ]
  },
  {
   "cell_type": "code",
   "execution_count": null,
   "id": "8caf965e",
   "metadata": {},
   "outputs": [],
   "source": [
    "#imports\n",
    "from flask import Flask, render_template, request\n",
    "from chatterbot import ChatBot\n",
    "from chatterbot.trainers import ChatterBotCorpusTrainer\n",
    "\n",
    "app = Flask(__name__)\n",
    "#create chatbot\n",
    "englishBot = ChatBot(\"Chatterbot\", storage_adapter=\"chatterbot.storage.SQLStorageAdapter\")\n",
    "trainer = ChatterBotCorpusTrainer(englishBot)\n",
    "trainer.train(\"chatterbot.corpus.english\") #train the chatter bot for english\n",
    "\n",
    "#define app routes\n",
    "@app.route(\"/\")\n",
    "def index():\n",
    "    return render_template(\"index.html\")\n",
    "\n",
    "@app.route(\"/get\")\n",
    "#function for the bot response\n",
    "def get_bot_response():\n",
    "    userText = request.args.get('msg')\n",
    "    return str(englishBot.get_response(userText))\n",
    "\n",
    "if __name__ == \"__main__\":\n",
    "    app.run()"
   ]
  },
  {
   "cell_type": "markdown",
   "id": "68e97d79",
   "metadata": {},
   "source": [
    "# Chatbot with Natural Language Processing\n",
    "There are broadly two variants of chatbots, Rule-based and Self-learning.\n",
    "A rule-based bot uses some rules on which it is trained, while a self-learning bot uses some machine-learning-based approach to chat."
   ]
  },
  {
   "cell_type": "markdown",
   "id": "91c72bfe",
   "metadata": {},
   "source": [
    "Lets Import the libraries\n"
   ]
  },
  {
   "cell_type": "code",
   "execution_count": null,
   "id": "30a29ef9",
   "metadata": {},
   "outputs": [],
   "source": [
    "from nltk.chat.util import Chat, reflections"
   ]
  },
  {
   "cell_type": "markdown",
   "id": "54b9bbc4",
   "metadata": {},
   "source": [
    "Create the chatbots list of recognizable patterns and it’s a response to those patterns. To do this we will create a variable called pairs."
   ]
  },
  {
   "cell_type": "code",
   "execution_count": null,
   "id": "504f0e36",
   "metadata": {},
   "outputs": [],
   "source": [
    "#Pairs is a list of patterns and responses.\n",
    "pairs = [\n",
    "    [\n",
    "        r\"(.*)my name is (.*)\",\n",
    "        [\"Hello %2, How are you today ?\",]\n",
    "    ],\n",
    "    [\n",
    "        r\"(.*)help(.*) \",\n",
    "        [\"I can help you \",]\n",
    "    ],\n",
    "     [\n",
    "        r\"(.*) your name ?\",\n",
    "        [\"My name is theprogrammer, but you can just call me robot and I'm a chatbot .\",]\n",
    "    ],\n",
    "    [\n",
    "        r\"how are you (.*) ?\",\n",
    "        [\"I'm doing very well\", \"i am great !\"]\n",
    "    ],\n",
    "    [\n",
    "        r\"sorry (.*)\",\n",
    "        [\"Its alright\",\"Its OK, never mind that\",]\n",
    "    ],\n",
    "    [\n",
    "        r\"i'm (.*) (good|well|okay|ok)\",\n",
    "        [\"Nice to hear that\",\"Alright, great !\",]\n",
    "    ],\n",
    "    [\n",
    "        r\"(hi|hey|hello|hola|holla)(.*)\",\n",
    "        [\"Hello\", \"Hey there\",]\n",
    "    ],\n",
    "    [\n",
    "        r\"what (.*) want ?\",\n",
    "        [\"Make me an offer I can't refuse\",]\n",
    "        \n",
    "    ],\n",
    "    [\n",
    "        r\"(.*)created(.*)\",\n",
    "        [\"Pratkshya Moharana created me using Python's NLTK library \",\"top secret ;)\",]\n",
    "    ],\n",
    "    [\n",
    "        r\"(.*) (location|city) ?\",\n",
    "        ['Odisha, India',]\n",
    "    ],\n",
    "    [\n",
    "        r\"(.*)raining in (.*)\",\n",
    "        [\"No rain in the past 4 days here in %2\",\"In %2 there is a 50% chance of rain\",]\n",
    "    ],\n",
    "    [\n",
    "        r\"how (.*) health (.*)\",\n",
    "        [\"Health is very important, but I am a computer, so I don't need to worry about my health \",]\n",
    "    ],\n",
    "    [\n",
    "        r\"(.*)(sports|game|sport)(.*)\",\n",
    "        [\"I'm a very big fan of Cricket\",]\n",
    "    ],\n",
    "    [\n",
    "        r\"who (.*) (Cricketer|Batsman)?\",\n",
    "        [\"Virat Kohli\"]\n",
    "    ],\n",
    "    [\n",
    "        r\"quit\",\n",
    "        [\"Bye for now. See you soon :) \",\"It was nice talking to you. See you soon :)\"]\n",
    "    ],\n",
    "    [\n",
    "        r\"(.*)\",\n",
    "        ['That is nice to hear']\n",
    "    ],\n",
    "]"
   ]
  },
  {
   "cell_type": "markdown",
   "id": "814ff52e",
   "metadata": {},
   "source": [
    "Okay, so as we finished the patterns and responses, let’s take a look at something called reflections. Reflections is a dictionary file that contains a set of input values and corresponding output values.\n",
    "\n"
   ]
  },
  {
   "cell_type": "markdown",
   "id": "308580d5",
   "metadata": {},
   "source": [
    "For example, if the string input was “I am a programmer”, then the output would be “you are a programmer”."
   ]
  },
  {
   "cell_type": "code",
   "execution_count": null,
   "id": "0ebc9cb7",
   "metadata": {},
   "outputs": [],
   "source": [
    "print(reflections)"
   ]
  },
  {
   "cell_type": "markdown",
   "id": "3fd61d09",
   "metadata": {},
   "source": [
    "We can also create our own reflections dictionary in the same format as reflections above. Below is an example of how to do this:"
   ]
  },
  {
   "cell_type": "code",
   "execution_count": null,
   "id": "a504581f",
   "metadata": {},
   "outputs": [],
   "source": [
    "my_dummy_reflections= {\n",
    "    \"go\"     : \"gone\",\n",
    "    \"hello\"    : \"hey there\"\n",
    "}"
   ]
  },
  {
   "cell_type": "markdown",
   "id": "d1f79637",
   "metadata": {},
   "source": [
    "Now let’s print a default message, and finish our chatbot:"
   ]
  },
  {
   "cell_type": "code",
   "execution_count": null,
   "id": "d909ae74",
   "metadata": {},
   "outputs": [],
   "source": [
    "#default message at the start of chat\n",
    "print(\"Hi, I'm theprogrammer and I like to chat\\nPlease type lowercase English language to start a conversation. Type quit to leave \")\n",
    "#Create Chat Bot\n",
    "chat = Chat(pairs, reflections)"
   ]
  },
  {
   "cell_type": "markdown",
   "id": "466ec62d",
   "metadata": {},
   "source": [
    "Now, let’s start a conversation"
   ]
  },
  {
   "cell_type": "code",
   "execution_count": null,
   "id": "52336a1f",
   "metadata": {},
   "outputs": [],
   "source": [
    "#Start conversation\n",
    "chat.converse()"
   ]
  },
  {
   "cell_type": "markdown",
   "id": "c5a023b0",
   "metadata": {},
   "source": [
    "# Telegram Bot with Python for Beginners"
   ]
  },
  {
   "cell_type": "markdown",
   "id": "9844a2ef",
   "metadata": {},
   "source": [
    "A bot is a software application programmed to perform certain tasks. The robots are automated, which means that they operate according to their instructions without a human user needing to start them. Bots often mimic or replace the behaviour of a human user. In this article, I will create a Telegram bot with Python, by using the telegram API."
   ]
  },
  {
   "cell_type": "markdown",
   "id": "32e55fe5",
   "metadata": {},
   "source": [
    "To create a Telegram Bot using Python, you need to go through some steps to get a telegram bot API from the BotFather account on Telegram. BotFather is simply s Bot which helps in creating more bots by providing a unique API. So before using python to create our Telegram bot, we need to go through some steps to get the API.\n"
   ]
  },
  {
   "cell_type": "markdown",
   "id": "206c5c68",
   "metadata": {},
   "source": [
    "# Steps to Get the Telegram Bot API\n",
    "First, create an account on telegram if you don’t have an account. After making your account search for BotFather, which is an official telegram bot that provides API to create more bots. When you will open the chat just write /start and send. The BatFather will reply you with a long text without reading the text you can type Newbot.\n",
    "\n",
    "Now it will reply you again with a long text, asking about a good name for you Telegram bot. You can write any name on it. Now the next step is to give a username to your bot which should be in a format Namebot or Name_bot. And the main thing to notice in this step is that your username should be a unique one, it should not match any other username all around the world.\n",
    "Now after typing a unique username, it will send you an API key between a long message, you need to copy that username and get started with Python.\n"
   ]
  },
  {
   "cell_type": "markdown",
   "id": "e0484ba6",
   "metadata": {},
   "source": [
    "# Telegram Bot with Python\n",
    "Now, we have the API key to build our telegram bot, the next step is to install a package known as telegram, which can be easily installed by using the pip command in your command prompt or terminal – pip install python-telegram-bot.\n",
    "\n",
    "After successfully installing the package, now let’s import the required packages and get started to make a Telegram Bot with Python. We only need the telegram package for this task, I will import it and prepare our program to read our API Key:"
   ]
  },
  {
   "cell_type": "code",
   "execution_count": null,
   "id": "be391391",
   "metadata": {},
   "outputs": [],
   "source": [
    "import telegram\n",
    "bot = telegram.bot(token='TOKEN') #Replace TOKEN with your token string"
   ]
  },
  {
   "cell_type": "markdown",
   "id": "16412df4",
   "metadata": {},
   "source": [
    "Now that everything is working, let’s follow the tradition and create a Hello World program. I will simply program our chatbot here with a command on which our telegram bot will respond with the message “Hello, World”:"
   ]
  },
  {
   "cell_type": "code",
   "execution_count": null,
   "id": "a599b74c",
   "metadata": {},
   "outputs": [],
   "source": [
    "from telegram.ext import Updater, CommandHandler, MessageHandler, Filters\n",
    "updater = Updater(token='TOKEN', use_context=True) #Replace TOKEN with your token string\n",
    "dispatcher = updater.dispatcher"
   ]
  },
  {
   "cell_type": "code",
   "execution_count": null,
   "id": "d83132a0",
   "metadata": {},
   "outputs": [],
   "source": [
    "#Now let’s create a hello function that sends the desired text message through the bot:\n",
    "def hello(update, context):\n",
    "    context.bot.send_message(chat_id=update.effective_chat.id, text='Hello, World')"
   ]
  },
  {
   "cell_type": "markdown",
   "id": "441793c5",
   "metadata": {},
   "source": [
    "We now use a CommandHandler and register it in the dispatcher. Basically, we bind the / hello command with the hello () function:"
   ]
  },
  {
   "cell_type": "code",
   "execution_count": null,
   "id": "48fd6c9b",
   "metadata": {},
   "outputs": [],
   "source": [
    "hello_handler = CommandHandler('hello', hello)\n",
    "dispatcher.add_handler(hello_handler)"
   ]
  },
  {
   "cell_type": "markdown",
   "id": "353702c5",
   "metadata": {},
   "source": [
    "And that’s it. To start our bot, add this code at the end of the file:"
   ]
  },
  {
   "cell_type": "code",
   "execution_count": null,
   "id": "3b0c8a05",
   "metadata": {},
   "outputs": [],
   "source": [
    "updater.start_polling()"
   ]
  },
  {
   "cell_type": "markdown",
   "id": "ef10a92a",
   "metadata": {},
   "source": [
    "Now, run the code and write /hello in you your telegram messenger to your telegram bot. It will reply with the text “Hello World”."
   ]
  },
  {
   "cell_type": "markdown",
   "id": "a50e7365",
   "metadata": {},
   "source": [
    "# COVID-19 Telegram Bot with Python"
   ]
  },
  {
   "cell_type": "markdown",
   "id": "3eca9393",
   "metadata": {},
   "source": [
    "Now, let’s build our program to get information related to the COVID-19 to get results from a simple text. Now here, you need to import two modules here known as requests and json. Now let’s import these two modules and build a COVID-19 telegram Bot with Python:"
   ]
  },
  {
   "cell_type": "code",
   "execution_count": null,
   "id": "5930e2ef",
   "metadata": {},
   "outputs": [],
   "source": [
    "import requests\n",
    "import json\n",
    "def summary(update, context):\n",
    "    response = requests.get('https://api.covid19api.com/summary')\n",
    "    if(response.status_code==200): #Everything went okay, we have the data\n",
    "        data = response.json()\n",
    "        print(data['Global'])\n",
    "        context.bot.send_message(chat_id=update.effective_chat.id, text=data['Global'])\n",
    "    else: #something went wrong\n",
    "        context.bot.send_message(chat_id=update.effective_chat.id, text=\"Error, something went wrong.\")\n",
    "​\n",
    "corona_summary_handler = CommandHandler('summary', summary)\n",
    "dispatcher.add_handler(corona_summary_handler)"
   ]
  },
  {
   "cell_type": "markdown",
   "id": "d356b2be",
   "metadata": {},
   "source": [
    "# Chatbot with Machine Learning and Python"
   ]
  },
  {
   "cell_type": "markdown",
   "id": "b8b055f9",
   "metadata": {},
   "source": [
    "Since we will be developing a Chatbot with Python using Machine Learning, we need some data to train our model. But we’re not going to collect or download a large dataset since this is just a chatbot. We can just create our own dataset to train the model.\n",
    "To create this dataset to create a chatbot with Python, we need to understand what intents we are going to train. An “intention” is the user’s intention to interact with a chatbot or the intention behind every message the chatbot receives from a particular user.\n",
    "\n",
    "Therefore, it is important to understand the good intentions of your chatbot depending on the domain you will be working with. So why does he need to define these intentions? This is a very important point to understand."
   ]
  },
  {
   "cell_type": "markdown",
   "id": "d70c4a22",
   "metadata": {},
   "source": [
    "In order to answer questions asked by the users and perform various other tasks to continue conversations with the users, the chatbot really needs to understand what users are saying or having ‘intention to do. This is why your chatbot must understand the intentions behind users’ messages.\n",
    "\n",
    "How can you get your chatbot to understand the intentions so that users feel like they know what they want and provide accurate answers? The strategy here is to set different intents and create training samples for those intents and train your chatbot model with these sample training data as model training data (X) and intents in as model training categories (Y)."
   ]
  },
  {
   "cell_type": "markdown",
   "id": "fb901082",
   "metadata": {},
   "source": [
    "Create a Chatbot with Python and Machine Learning\n",
    "To create a chatbot with Python and Machine Learning, you need to install some packages. All the packages you need to install to create a chatbot with Machine Learning using the Python programming language are mentioned below:\n",
    "\n",
    "tensorflow==2.3.1\n",
    "nltk==3.5\n",
    "colorama==0.4.3\n",
    "numpy==1.18.5\n",
    "scikit_learn==0.23.2\n",
    "Flask==1.1.2"
   ]
  },
  {
   "cell_type": "markdown",
   "id": "cc4e4879",
   "metadata": {},
   "source": [
    "# Defining the Intentions of a Chatbot\n",
    "Now we need to define a few simple intents and a group of messages that match those intents and also map some responses based on each intent category. I’ll create a JSON file named “intents.json” including this data as follows:"
   ]
  },
  {
   "cell_type": "code",
   "execution_count": null,
   "id": "46895ed4",
   "metadata": {},
   "outputs": [],
   "source": [
    "{\"intents\": [\n",
    "    {\"tag\": \"greeting\",\n",
    "     \"patterns\": [\"Hi\", \"Hey\", \"Is anyone there?\", \"Hello\", \"Hay\"],\n",
    "     \"responses\": [\"Hello\", \"Hi\", \"Hi there\"]\n",
    "    },\n",
    "    {\"tag\": \"goodbye\",\n",
    "     \"patterns\": [\"Bye\", \"See you later\", \"Goodbye\"],\n",
    "     \"responses\": [\"See you later\", \"Have a nice day\", \"Bye! Come back again\"]\n",
    "    },\n",
    "    {\"tag\": \"thanks\",\n",
    "     \"patterns\": [\"Thanks\", \"Thank you\", \"That's helpful\", \"Thanks for the help\"],\n",
    "     \"responses\": [\"Happy to help!\", \"Any time!\", \"My pleasure\", \"You're most welcome!\"]\n",
    "    },\n",
    "    {\"tag\": \"about\",\n",
    "     \"patterns\": [\"Who are you?\", \"What are you?\", \"Who you are?\" ],\n",
    "     \"responses\": [\"I.m Joana, your bot assistant\", \"I'm Joana, an Artificial Intelligent bot\"]\n",
    "    },\n",
    "    {\"tag\": \"name\",\n",
    "    \"patterns\": [\"what is your name\", \"what should I call you\", \"whats your name?\"],\n",
    "    \"responses\": [\"You can call me Joana.\", \"I'm Joana!\", \"Just call me as Joana\"]\n",
    "    },\n",
    "    {\"tag\": \"help\",\n",
    "    \"patterns\": [\"Could you help me?\", \"give me a hand please\", \"Can you help?\", \"What can you do for me?\", \"I need a support\", \"I need a help\", \"support me please\"],\n",
    "    \"responses\": [\"Tell me how can assist you\", \"Tell me your problem to assist you\", \"Yes Sure, How can I support you\"]\n",
    "    },\n",
    "    {\"tag\": \"createaccount\",\n",
    "    \"patterns\": [\"I need to create a new account\", \"how to open a new account\", \"I want to create an account\", \"can you create an account for me\", \"how to open a new account\"],\n",
    "    \"responses\": [\"You can just easily create a new account from our web site\", \"Just go to our web site and follow the guidelines to create a new account\"]\n",
    "    },\n",
    "    {\"tag\": \"complaint\",\n",
    "    \"patterns\": [\"have a complaint\", \"I want to raise a complaint\", \"there is a complaint about a service\"],\n",
    "    \"responses\": [\"Please provide us your complaint in order to assist you\", \"Please mention your complaint, we will reach you and sorry for any inconvenience caused\"]\n",
    "    }\n",
    "]\n",
    "}"
   ]
  },
  {
   "cell_type": "markdown",
   "id": "44d2f765",
   "metadata": {},
   "source": [
    "# Data preparation:\n",
    "The second step of this task to create a chatbot with Python and Machine Learning is to prepare the data to train our chatbot. I’ll start this step by importing the necessary libraries and packages:"
   ]
  },
  {
   "cell_type": "code",
   "execution_count": null,
   "id": "7af9da68",
   "metadata": {},
   "outputs": [],
   "source": [
    "import json \n",
    "import numpy as np \n",
    "import tensorflow as tf\n",
    "from tensorflow import keras\n",
    "from tensorflow.keras.models import Sequential\n",
    "from tensorflow.keras.layers import Dense, Embedding, GlobalAveragePooling1D\n",
    "from tensorflow.keras.preprocessing.text import Tokenizer\n",
    "from tensorflow.keras.preprocessing.sequence import pad_sequences\n",
    "from sklearn.preprocessing import LabelEncoder"
   ]
  },
  {
   "cell_type": "markdown",
   "id": "9ceae4d1",
   "metadata": {},
   "source": [
    "Now I will read the JSON file and process the required files:"
   ]
  },
  {
   "cell_type": "code",
   "execution_count": null,
   "id": "76c11ef5",
   "metadata": {},
   "outputs": [],
   "source": [
    "with open('intents.json') as file:\n",
    "    data = json.load(file)\n",
    "    \n",
    "training_sentences = []\n",
    "training_labels = []\n",
    "labels = []\n",
    "responses = []\n",
    "\n",
    "\n",
    "for intent in data['intents']:\n",
    "    for pattern in intent['patterns']:\n",
    "        training_sentences.append(pattern)\n",
    "        training_labels.append(intent['tag'])\n",
    "    responses.append(intent['responses'])\n",
    "    \n",
    "    if intent['tag'] not in labels:\n",
    "        labels.append(intent['tag'])\n",
    "        \n",
    "num_classes = len(labels)"
   ]
  },
  {
   "cell_type": "markdown",
   "id": "2979268e",
   "metadata": {},
   "source": [
    "Now we need to use the label encoder method provided by the Scikit-Learn library in Python:"
   ]
  },
  {
   "cell_type": "code",
   "execution_count": null,
   "id": "3a99b6af",
   "metadata": {},
   "outputs": [],
   "source": [
    "lbl_encoder = LabelEncoder()\n",
    "lbl_encoder.fit(training_labels)\n",
    "training_labels = lbl_encoder.transform(training_labels)"
   ]
  },
  {
   "cell_type": "markdown",
   "id": "d3f8f42c",
   "metadata": {},
   "source": [
    "Tokenization:\n",
    "Now we need to vectorize the data using the Tokenization method to create a chatbot with Python and Machine Learning:"
   ]
  },
  {
   "cell_type": "code",
   "execution_count": null,
   "id": "4b6454e5",
   "metadata": {},
   "outputs": [],
   "source": [
    "vocab_size = 1000\n",
    "embedding_dim = 16\n",
    "max_len = 20\n",
    "oov_token = \"<OOV>\"\n",
    "\n",
    "tokenizer = Tokenizer(num_words=vocab_size, oov_token=oov_token)\n",
    "tokenizer.fit_on_texts(training_sentences)\n",
    "word_index = tokenizer.word_index\n",
    "sequences = tokenizer.texts_to_sequences(training_sentences)\n",
    "padded_sequences = pad_sequences(sequences, truncating='post', maxlen=max_len)"
   ]
  },
  {
   "cell_type": "markdown",
   "id": "bf619f36",
   "metadata": {},
   "source": [
    "# Training a Neural Network\n",
    "Now the next and most important step in the process of building a chatbot with Python and Machine Learning is to train a neural network. Now, I will train and create a neural network to train our chatbot:"
   ]
  },
  {
   "cell_type": "code",
   "execution_count": null,
   "id": "e81491e4",
   "metadata": {},
   "outputs": [],
   "source": [
    "model = Sequential()\n",
    "model.add(Embedding(vocab_size, embedding_dim, input_length=max_len))\n",
    "model.add(GlobalAveragePooling1D())\n",
    "model.add(Dense(16, activation='relu'))\n",
    "model.add(Dense(16, activation='relu'))\n",
    "model.add(Dense(num_classes, activation='softmax'))\n",
    "\n",
    "model.compile(loss='sparse_categorical_crossentropy', \n",
    "              optimizer='adam', metrics=['accuracy'])\n",
    "\n",
    "model.summary()\n",
    "epochs = 500\n",
    "history = model.fit(padded_sequences, np.array(training_labels), epochs=epochs)"
   ]
  },
  {
   "cell_type": "markdown",
   "id": "a0d0e2c0",
   "metadata": {},
   "source": [
    "# Saving The Neural Network:\n",
    "We’ve trained the model, but before we go any further in the process of building a chatbot with Python and Machine Learning, let’s save the model so that we can use this neural network in the future as well:"
   ]
  },
  {
   "cell_type": "code",
   "execution_count": null,
   "id": "90389219",
   "metadata": {},
   "outputs": [],
   "source": [
    "# to save the trained model\n",
    "model.save(\"chat_model\")\n",
    "\n",
    "import pickle\n",
    "\n",
    "# to save the fitted tokenizer\n",
    "with open('tokenizer.pickle', 'wb') as handle:\n",
    "    pickle.dump(tokenizer, handle, protocol=pickle.HIGHEST_PROTOCOL)\n",
    "    \n",
    "# to save the fitted label encoder\n",
    "with open('label_encoder.pickle', 'wb') as ecn_file:\n",
    "    pickle.dump(lbl_encoder, ecn_file, protocol=pickle.HIGHEST_PROTOCOL)"
   ]
  },
  {
   "cell_type": "markdown",
   "id": "affbd900",
   "metadata": {},
   "source": [
    "# Now let’s Build a Chatbot with Python and our Trained Machine Learning Model\n",
    "Now I am going to implement a chat function to interact with a real user. When the message from the user will be received, the chatbot will compute the similarity between the sequence of the new text and the training data.\n",
    "\n",
    "Taking into account the trust scores obtained for each category, it categorizes the user’s message according to an intention with the highest trust score:\n",
    "\n"
   ]
  },
  {
   "cell_type": "code",
   "execution_count": null,
   "id": "6bffeadc",
   "metadata": {},
   "outputs": [],
   "source": [
    "import json \n",
    "import numpy as np\n",
    "from tensorflow import keras\n",
    "from sklearn.preprocessing import LabelEncoder\n",
    "\n",
    "import colorama \n",
    "colorama.init()\n",
    "from colorama import Fore, Style, Back\n",
    "\n",
    "import random\n",
    "import pickle\n",
    "\n",
    "with open(\"intents.json\") as file:\n",
    "    data = json.load(file)\n",
    "\n",
    "\n",
    "def chat():\n",
    "    # load trained model\n",
    "    model = keras.models.load_model('chat_model')\n",
    "\n",
    "    # load tokenizer object\n",
    "    with open('tokenizer.pickle', 'rb') as handle:\n",
    "        tokenizer = pickle.load(handle)\n",
    "\n",
    "    # load label encoder object\n",
    "    with open('label_encoder.pickle', 'rb') as enc:\n",
    "        lbl_encoder = pickle.load(enc)\n",
    "\n",
    "    # parameters\n",
    "    max_len = 20\n",
    "    \n",
    "    while True:\n",
    "        print(Fore.LIGHTBLUE_EX + \"User: \" + Style.RESET_ALL, end=\"\")\n",
    "        inp = input()\n",
    "        if inp.lower() == \"quit\":\n",
    "            break\n",
    "\n",
    "        result = model.predict(keras.preprocessing.sequence.pad_sequences(tokenizer.texts_to_sequences([inp]),\n",
    "                                             truncating='post', maxlen=max_len))\n",
    "        tag = lbl_encoder.inverse_transform([np.argmax(result)])\n",
    "\n",
    "        for i in data['intents']:\n",
    "            if i['tag'] == tag:\n",
    "                print(Fore.GREEN + \"ChatBot:\" + Style.RESET_ALL , np.random.choice(i['responses']))\n",
    "\n",
    "        # print(Fore.GREEN + \"ChatBot:\" + Style.RESET_ALL,random.choice(responses))\n",
    "\n",
    "print(Fore.YELLOW + \"Start messaging with the bot (type quit to stop)!\" + Style.RESET_ALL)\n",
    "chat()"
   ]
  },
  {
   "cell_type": "code",
   "execution_count": null,
   "id": "0a5f4c81",
   "metadata": {},
   "outputs": [],
   "source": []
  }
 ],
 "metadata": {
  "kernelspec": {
   "display_name": "Python 3 (ipykernel)",
   "language": "python",
   "name": "python3"
  },
  "language_info": {
   "codemirror_mode": {
    "name": "ipython",
    "version": 3
   },
   "file_extension": ".py",
   "mimetype": "text/x-python",
   "name": "python",
   "nbconvert_exporter": "python",
   "pygments_lexer": "ipython3",
   "version": "3.9.7"
  }
 },
 "nbformat": 4,
 "nbformat_minor": 5
}
