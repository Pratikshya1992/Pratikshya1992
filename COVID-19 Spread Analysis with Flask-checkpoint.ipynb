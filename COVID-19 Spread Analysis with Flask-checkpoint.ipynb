{
 "cells": [
  {
   "cell_type": "code",
   "execution_count": null,
   "id": "acb0d838",
   "metadata": {},
   "outputs": [],
   "source": [
    "pip pip install Flaskinstall Flask"
   ]
  }
 ],
 "metadata": {
  "kernelspec": {
   "display_name": "Python 3 (ipykernel)",
   "language": "python",
   "name": "python3"
  }
 },
 "nbformat": 4,
 "nbformat_minor": 5
}
