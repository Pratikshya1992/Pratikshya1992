{
 "cells": [
  {
   "cell_type": "markdown",
   "id": "0be757f0",
   "metadata": {},
   "source": [
    "Spam comments detection means classifying comments as spam or not spam. YouTube is one of the platforms that uses Machine Learning to filter spam comments automatically to save its creators from spam comments"
   ]
  },
  {
   "cell_type": "markdown",
   "id": "7e48ffa8",
   "metadata": {},
   "source": [
    "# Spam Comments Detection\n",
    "Detecting spam comments is the task of text classification in Machine Learning. Spam comments on social media platforms are the type of comments posted to redirect the user to another social media account, website or any piece of content.\n",
    "\n",
    "To detect spam comments with Machine Learning, we need labelled data of spam comments. A dataset on Kaggle about YouTube spam comments which will be helpful for the task of spam comments detection"
   ]
  },
  {
   "cell_type": "markdown",
   "id": "9e00ec3f",
   "metadata": {},
   "source": [
    "Let’s start this task by importing the necessary Python libraries and the dataset:"
   ]
  },
  {
   "cell_type": "code",
   "execution_count": 23,
   "id": "a84c3e2f",
   "metadata": {},
   "outputs": [
    {
     "name": "stdout",
     "output_type": "stream",
     "text": [
      "                                      COMMENT_ID  \\\n",
      "286          z12oxlzh4qjicd2zu04cgfabqtipf3gq4is   \n",
      "188            z13lezboqn35jtqlm23mcpgp3tjbghmvk   \n",
      "161        z13actcqdm31slqqu04cctub4n2nw1swwy00k   \n",
      "69   LZQPQhLyRh_hbykd_Xw4oDROJbJTFrs-UbSB2xk8gRk   \n",
      "3            z13jhp0bxqncu512g22wvzkasxmvvzjaz04   \n",
      "210          z12kyn0qjzzzur2ai04cg5szenjxdrorp4w   \n",
      "344            z12etrpq5xu0vnm2g230szo5ote3zviny   \n",
      "37             z13zj1grjzqhhxzlj23gdpzaovunwnn0f   \n",
      "235        z13welx54xa4irprk04cfljw0o3gcnkrxzg0k   \n",
      "191            z12aillowmuftn5l022cv3hwbofjctgch   \n",
      "\n",
      "                                         AUTHOR                 DATE  \\\n",
      "286                                   Susan Jay  2014-11-08T10:04:22   \n",
      "188                             Parssa Alimadad  2014-11-07T07:54:13   \n",
      "161                                  Sean Ortiz  2014-11-06T16:48:02   \n",
      "69                                    OREOGAM3R  2014-01-25T19:36:25   \n",
      "3                               ElNino Melendez  2013-11-09T08:28:43   \n",
      "210                          O sábio das 7 eras  2014-11-07T17:06:48   \n",
      "344                                 InterGaming  2014-11-14T13:16:24   \n",
      "37   HamzaMurt | Advanced Warefare | Lets Play!  2014-01-19T17:20:58   \n",
      "235                                 John Plaatt  2014-11-07T22:22:29   \n",
      "191                                    Cool Ong  2014-11-07T09:55:39   \n",
      "\n",
      "                                               CONTENT  CLASS  \n",
      "286  Enough with the whole \"how does this have two ...      0  \n",
      "188  Dear person reading this, You are beautiful an...      0  \n",
      "161           Incmedia.org where the truth meets you.﻿      1  \n",
      "69               It's been back for quite a while now.      0  \n",
      "3     me shaking my sexy ass on my channel enjoy ^_^ ﻿      1  \n",
      "210  Please friend read my book and repass: http://...      1  \n",
      "344  everyones back lool this is almost 3 years old...      0  \n",
      "37   SUB 4 SUB PLEASE LIKE THIS COMMENT I WANT A SU...      1  \n",
      "235  On 0:02 u can see the camera man on his glasse...      0  \n",
      "191  The Guy in the yellow suit kinda looks like Ja...      0  \n"
     ]
    }
   ],
   "source": [
    "import pandas as pd\n",
    "import numpy as np\n",
    "from sklearn.feature_extraction.text import CountVectorizer\n",
    "from sklearn.model_selection import train_test_split\n",
    "from sklearn.naive_bayes import BernoulliNB\n",
    "data = pd.read_csv(\"Youtube01-Psy.csv\")\n",
    "print(data.sample(10))"
   ]
  },
  {
   "cell_type": "code",
   "execution_count": 22,
   "id": "65ced45f",
   "metadata": {},
   "outputs": [
    {
     "name": "stdout",
     "output_type": "stream",
     "text": [
      "                                COMMENT_ID               AUTHOR  \\\n",
      "165    z13yjbgh1qzmxly5o04cfxm5vumeibdgq1w         Wonderfulkid   \n",
      "273    z12qxxchsv2oetuut22jwxur3tjjcvmw004            D Germain   \n",
      "95       z12qf5rimw3pfbw1w22pyruxovawz1dkq    Cristina Valencia   \n",
      "225    z13nev2azv3mftkx404cf1gilnvsi15hfjg          nanaIAMNANA   \n",
      "113    z13kdx4bjwevyfhfy222jhvo2nvsdxzyt04      Alanoud Alsaleh   \n",
      "271    z12lznkqhkyysbznf222ft35zmy1shkb504               youngj   \n",
      "66       z134e5zjck2agxwd423hdjgx1y3ndvhf4  Christopher Pete S.   \n",
      "15       z12bxv4olmv3j1i2w232y5awruz3i1rva           J STROMMER   \n",
      "238    z130fjzbglzugzfdx23cipvotlrkdpepo04            subscrool   \n",
      "89   z12ax3ozzsjafnboe04civtrlxzzxtbbaxs0k     Sheldon Duncombe   \n",
      "40     z13lhdo5vnyndj3p304cjjs4zze3sldrqbg           Mai Nguyễn   \n",
      "218    z13vvheilmf1cbqfr22ge1rwqszpcvbgc04          ColoursBruh   \n",
      "189  z13iyvl5vzqledtym04cirookpa1edwpvuw0k      Tomas Adomaitis   \n",
      "51     z12utdmrdmz1ctouj22yu52pqt2if3pwl04        Yerki el duro   \n",
      "28     z12mvbxwqoz1hlhay04cfnuzfxuwdx1pj54      Charles Baptist   \n",
      "327    z13wsnj44xfigrbse22iubv5kmebxlebm04           monal shah   \n",
      "125  z13nhjbxcwe4stwwz04cfpfoqrzghr540ns0k         Mandeep Kaur   \n",
      "296    z122g12wzuztdjac4232jxuomqylcfjhc04        William Carey   \n",
      "315    z13wytcx3ljjhvo2w23qejnwjyzryv2xh04            Sam Kesha   \n",
      "96       z13ogjwqvuazsh0v123evnzipxyjx5fcv             ENZOxDV9   \n",
      "\n",
      "                    DATE                                            CONTENT  \\\n",
      "165  2014-09-27T01:46:14                             I love her green eyes﻿   \n",
      "273  2014-10-29T21:34:30  please look up DHG SONGS this is my playlist w...   \n",
      "95   2014-09-12T15:26:38  hey guys i really want to go to a katy perry c...   \n",
      "225  2014-10-18T12:41:41  Hi! I would appreciate it if you all could hel...   \n",
      "113  2014-09-15T18:27:56  I started hating Katy Perry after finding out ...   \n",
      "271  2014-10-29T11:28:58  People who believe in Illuminati are stupid th...   \n",
      "66   2014-09-07T22:39:21         Subscribe and u are gonna hear me roar ;)﻿   \n",
      "15   2014-08-11T17:32:00  Take a break from Katie and help me reach 100 ...   \n",
      "238  2014-10-21T15:07:11  666,002,018 views! 666 million. 666! Katy Perr...   \n",
      "89   2014-09-11T19:09:43  http://www.aaas.org/tech-i/vote#view/25874/217...   \n",
      "40   2014-08-28T03:53:35  help me click on the subscribe Mai Nguyen, tha...   \n",
      "218  2014-10-17T00:54:50                      Katy has a voice of an Angel﻿   \n",
      "189  2014-10-08T18:24:05  https://www.paidverts.com/ref/tomuciux99 esyes...   \n",
      "51   2014-09-03T11:29:56  Nicee!!sabrosura viva https://soundcloud.com/y...   \n",
      "28   2014-08-20T20:18:13  Help Please!!  http://www.gofundme.com/RJanima...   \n",
      "327  2014-11-10T09:00:34  https://apps.facebook.com/my-polls/utsitcompet...   \n",
      "125  2014-09-16T21:03:17                                      selfie alert﻿   \n",
      "296  2014-11-06T02:47:23  This song is the most boring, asinine song I h...   \n",
      "315  2014-11-07T23:21:19  http://www.wattpad.com/story/26032883-she-can-...   \n",
      "96   2014-09-12T19:45:34  this video is very inaccurate, a tiger would r...   \n",
      "\n",
      "     CLASS  \n",
      "165      0  \n",
      "273      1  \n",
      "95       1  \n",
      "225      1  \n",
      "113      0  \n",
      "271      0  \n",
      "66       1  \n",
      "15       1  \n",
      "238      0  \n",
      "89       1  \n",
      "40       1  \n",
      "218      0  \n",
      "189      1  \n",
      "51       1  \n",
      "28       1  \n",
      "327      1  \n",
      "125      0  \n",
      "296      0  \n",
      "315      1  \n",
      "96       0  \n"
     ]
    }
   ],
   "source": [
    "data = pd.read_csv(\"Youtube02-KatyPerry.csv\")\n",
    "print(data.sample(20))"
   ]
  },
  {
   "cell_type": "code",
   "execution_count": 21,
   "id": "d6014c71",
   "metadata": {},
   "outputs": [
    {
     "name": "stdout",
     "output_type": "stream",
     "text": [
      "                                COMMENT_ID                    AUTHOR  \\\n",
      "103    z12tevwo3qq4cxwv022vgxnx2senxvxar04                 FunCircUS   \n",
      "388      z13wz10yyn3wz3fu523zzzeackarhvpu4         bebishyne alicdan   \n",
      "173    z12xdtdgitfgyxa0y23sxbvrwp3owpjgd04           Julien Paradise   \n",
      "413      z12btr5hfnjydpwm023xtt0q4urzs1ju4           Mah Productions   \n",
      "368    z13txnfjov2tgle5z04cfd4jlyflx52ysbk                 tchangkou   \n",
      "229    z12iix3puuj5wxufw23fzrnybxqdy3v4s04                 Josh Snow   \n",
      "347  z122vp4rxpv4ejfaf04cilzwykrhd1eqkms0k         Anna Louise Puzon   \n",
      "246    z123sbbrgryqhfwgi04cjpbxokbdifsibhw              Kiarna Burke   \n",
      "38   z134ejc5qo2tinqb404cezl4ayq5cprwoqw0k  Boa Hancock Amelia Caria   \n",
      "350      z12xevzwtyyftlhma22qdp4ocljizpouh            Beatriz A York   \n",
      "6      z13oe5si1ouygx2dv22vcrb5qouetpjz404                Brian Brai   \n",
      "316      z12isnmj3wuovj4tt22stv0x1kblzls1w              Sandy Torres   \n",
      "309    z13qfdrbsxfawpbzz04cclnxskurjhjwgas            Filthy BarDown   \n",
      "319      z13ijz1zetarj31dk22nfl0qvyneyxn0l               sahir omran   \n",
      "166  z12hctzi5nvbxhcqu04civkgsujfeffxkvs0k                Donna Loyd   \n",
      "\n",
      "                           DATE  \\\n",
      "103  2015-05-22T14:43:16.180000   \n",
      "388  2014-10-04T13:16:55.971000   \n",
      "173  2015-05-17T16:18:24.098000   \n",
      "413  2014-07-26T17:07:51.274000   \n",
      "368  2014-12-04T01:31:02.296000   \n",
      "229  2015-04-25T00:37:34.423000   \n",
      "347  2014-12-26T12:21:05.108000   \n",
      "246  2015-04-11T08:36:04.034000   \n",
      "38   2015-05-26T20:03:08.241000   \n",
      "350  2014-12-25T19:20:32.982000   \n",
      "6    2015-05-28T08:57:27.399000   \n",
      "316  2015-01-30T16:48:13.985000   \n",
      "309  2015-02-04T11:47:27.653000   \n",
      "319  2015-01-27T09:43:48.741000   \n",
      "166  2015-05-17T19:58:38.281000   \n",
      "\n",
      "                                               CONTENT  CLASS  \n",
      "103                   And i´m Shufflin still today :D﻿      0  \n",
      "388                  Check out this video on YouTube:﻿      1  \n",
      "173  LMFAO - Party Rock Anthem ft. Lauren Bennett, ...      0  \n",
      "413  Check the shit out on my channel<br /><br /><b...      1  \n",
      "368                  Check out this video on YouTube:﻿      1  \n",
      "229                  Check out this video on YouTube:﻿      1  \n",
      "347                  Check out this video on YouTube:﻿      1  \n",
      "246                  Check out this video on YouTube:﻿      1  \n",
      "38                                     Party rock! XD﻿      0  \n",
      "350               Check out this playlist on YouTube:﻿      1  \n",
      "6                                                 Omg﻿      0  \n",
      "316               Check out this playlist on YouTube:﻿      1  \n",
      "309  Can i get views and subscribers for no reason? 😅﻿      1  \n",
      "319  Check out this video on YouTube:الإعلانات<br /...      1  \n",
      "166                           Party rock due and duel﻿      0  \n"
     ]
    }
   ],
   "source": [
    "data = pd.read_csv(\"Youtube03-LMFAO.csv\")\n",
    "print(data.sample(15))"
   ]
  },
  {
   "cell_type": "code",
   "execution_count": 20,
   "id": "9ac2caab",
   "metadata": {},
   "outputs": [
    {
     "name": "stdout",
     "output_type": "stream",
     "text": [
      "                                      COMMENT_ID                AUTHOR  \\\n",
      "244  LneaDw26bFu1Ru9jx_4ZrghWiGAVmVtFPtTTpL7ihGI               deazy99   \n",
      "250  LneaDw26bFviVGu48zFp_sMMENzTpzWdbhRUvgtprCI         Dengesiz Adam   \n",
      "45         z12avrn4pmaaw34bc04cjfhhjvuazn3w0qk0k           Chris Faith   \n",
      "424          z13gxxlhyrmccf10422gdrogiwbjtfwjb04          Ahmed Medhat   \n",
      "299          z12wddhwuqintd14y04cif5i5z3vxjfwd5s  Elsa Ekokobe Rønning   \n",
      "234          z13cehkhxmugujbdh23ehzcijlfhcr4h204       Karen Cervantes   \n",
      "388  LneaDw26bFuADByLeh7RnEltROTIUCqeYYXmt51DT2g                 M.E.S   \n",
      "174          z12qidxykke3jnmm522nj3noypyaedja504       Destiny Boatley   \n",
      "325  LneaDw26bFs2opcXPZ0Hnufen7TS94xBoLm5NO5l30U                Adam B   \n",
      "170            z13qgndqwtb0c1z0z23qjj5yivq0djqul      LEGO_01 AND OBRY   \n",
      "157          z13ye1jj0nmftp3bm04cetp5krufcxpyyg4        Ellen Hamilton   \n",
      "328            z130zx3rrzagwzclr23vxjypimviff23m            Huda Salah   \n",
      "396  LneaDw26bFvwhMGEs3mKR9qcJjIwC7L04F9DEGkLQfY           Drake Gagne   \n",
      "22         z12fcjxowubrsnwx104cftlgcpfzw5uwbug0k                 Izana   \n",
      "91           z12ithhjbzzhwdmy504cfd4ypkiiizlbg3k              Ali Baza   \n",
      "313          z13ryrrbkny0czdvv23vizoopmmmgxtax04          Angie Medina   \n",
      "264  LneaDw26bFtUEhNudjpH0X1gcH2nF0v4w6dhXurctSU           Ashim Limbu   \n",
      "118  LneaDw26bFupwvoW3Go_MqiZr35wklInwfOlKebxCYE                  Anon   \n",
      "38           z13ss524vpztvf2de23cyz2bmlfbvtcx304        Melissa Erhart   \n",
      "432  LneaDw26bFvEGhYWZTzIRiff9BXME_JsdLXh4hiJEqo          Daniel Ebrey   \n",
      "425          z13auv44szqpddlcz22qgthjakq4jvnbw04              clirim99   \n",
      "376            z12jt1dbdpbvzzyi304cdxr4cwqkgrild            Susan Ambs   \n",
      "337  LneaDw26bFvA7_ot-Z3kQHP4GTE3g_Zc2fsfdZ4COpI                Adam B   \n",
      "153  LneaDw26bFun23MY7WyKqy2ranhq31GL0qSYL-0X9Xg        Joseph Jackson   \n",
      "94             z13qjrqjnqbcvnpeg23lubsaezyzx1wti                 LXZNY   \n",
      "\n",
      "                           DATE  \\\n",
      "244                         NaN   \n",
      "250                         NaN   \n",
      "45                          NaN   \n",
      "424  2015-05-19T15:23:47.680000   \n",
      "299  2015-05-22T22:19:43.707000   \n",
      "234  2015-05-24T00:15:08.291000   \n",
      "388                         NaN   \n",
      "174  2015-05-25T15:08:58.329000   \n",
      "325                         NaN   \n",
      "170  2015-05-26T01:15:53.571000   \n",
      "157  2015-05-26T03:40:15.595000   \n",
      "328  2015-05-21T21:34:27.615000   \n",
      "396                         NaN   \n",
      "22   2015-05-28T20:46:16.348000   \n",
      "91   2015-05-27T18:33:10.607000   \n",
      "313  2015-05-22T10:58:24.072000   \n",
      "264                         NaN   \n",
      "118                         NaN   \n",
      "38                          NaN   \n",
      "432                         NaN   \n",
      "425  2015-05-19T12:13:44.952000   \n",
      "376                         NaN   \n",
      "337                         NaN   \n",
      "153                         NaN   \n",
      "94   2015-05-27T17:47:58.539000   \n",
      "\n",
      "                                               CONTENT  CLASS  \n",
      "244  I know that maybe no one will read this but PL...      1  \n",
      "250                       SubScribe me pls EMİNEM FANS      1  \n",
      "45   I personally have never been in a abusive rela...      1  \n",
      "424                                    Simply rap god﻿      0  \n",
      "299  Lol thats the guy from animal planet and lost....      0  \n",
      "234                                         Love Song﻿      0  \n",
      "388  hey its M.E.S here I&#39;m a young up and comi...      1  \n",
      "174                        I like this song very much﻿      0  \n",
      "325                     adam b beats check out my page      1  \n",
      "170                    Holy crap. 800,000,000 views?!﻿      0  \n",
      "157  Made five years ago and people still don&#39;t...      0  \n",
      "328                                         Looooved ﻿      0  \n",
      "396  I KNOW YOU MAY NOT WANT TO READ THIS BUT pleas...      1  \n",
      "22   I love this song, can&#39;t believe it was 5 y...      0  \n",
      "91                Still listening,still same pleasure﻿      0  \n",
      "313               Eminem - Love the way you lie ♥ ♥ ♥﻿      0  \n",
      "264  YO GUYS IM 14 YEAR OLD RAPPER JUST STARTED RAP...      1  \n",
      "118  youtube.com/watch?v=2ASFn9ShgHk&amp;feature=yo...      1  \n",
      "38   Check out this playlist on YouTube:chcfcvzfzfb...      1  \n",
      "432  sorry for the spam yall I know it’s annoying. ...      1  \n",
      "425                            is that megan fox x:D?﻿      0  \n",
      "376                  Check out this video on YouTube:﻿      1  \n",
      "337                adam b beats check out my page 2013      1  \n",
      "153  You guys should check out this EXTRAORDINARY w...      1  \n",
      "94                     2010? The time past so fast ..﻿      0  \n"
     ]
    }
   ],
   "source": [
    "data = pd.read_csv(\"Youtube04-Eminem.csv\")\n",
    "print(data.sample(25))"
   ]
  },
  {
   "cell_type": "code",
   "execution_count": 19,
   "id": "10c5bcc8",
   "metadata": {},
   "outputs": [
    {
     "name": "stdout",
     "output_type": "stream",
     "text": [
      "                                      COMMENT_ID                   AUTHOR  \\\n",
      "9          z135hlk5grfwjhmym04ced0gyzrvsn5avuw0k          Nirab Valobasha   \n",
      "139          z12ivloo2snustjpe04cdbf5bknuudrxpdw           LiveLikeLien x   \n",
      "348  _2viQ_Qnc6-3Nk200KmVtS-kiCS_1CjKJsMIbXakyfI              hsn moghrbi   \n",
      "89           z123ydw50qjkfzm5s04cdlzziubxtz0ijfk           redouane najja   \n",
      "337  _2viQ_Qnc6-F0FnQlt7edQt9rRqV7Clx74E8hyKAVt0                 BDOG1040   \n",
      "44             z13udxpqgtnnxt10o232vhgbspnveld0c         bossdon redhouse   \n",
      "138            z13qfn5yusqoslnn222dutdw4yqmhzhej           LiveLikeLien x   \n",
      "3              z12icv3ysqvlwth2c23eddlykyqut5z1h            Eric Gonzalez   \n",
      "60         z12zcxyjxof0ihx4w04cf1gojz3zwnty4ts0k           Syed Akbar Ali   \n",
      "130          z134htyq0xbgvvowg04cehpiox35d5chu1s    THE GAMER OF TOMORROW   \n",
      "37           z13vf1mwauyjgj23q22vtppxjlnihr2ro04             Zcoria Kelly   \n",
      "200  _2viQ_Qnc69BVRuBYCJ6ik7gdMwTiBRS9DDnTjNs-Gg               James Cook   \n",
      "234  _2viQ_Qnc68MKhLnK71z12gu878i_A0sdfmpA0RvgOE                 5000palo   \n",
      "30           z132xfsy4pz5uvyxh04ce50xez2ki53ysaw               Ryan Ramma   \n",
      "87           z13lvdcijuj5znbge04cc1iawv3eezsbbjo           Рустем Ахметов   \n",
      "13             z13utfk5rny3yzqtj22phlsxmtfuspbcp           Stephen Lister   \n",
      "231  _2viQ_Qnc6_xOpLcxFFeUEgEYvQjttGcFYeMZ2lK4yY             Pyles Baxter   \n",
      "103            z13ldttruqm1x1wsz23qcdlq4saefnkew           Wiki Smolinska   \n",
      "347  _2viQ_Qnc6-G71VMp3dR76dfQTcrRHpiNXJh2jm8V_M          Johnny Rei Vlog   \n",
      "131          z12tuvbodnn5ipp3o22mxnarfnnrxbq4z04  Basanagowda Policepatil   \n",
      "224  _2viQ_Qnc69xHT0POK7QFVihno_v_II_pWLoDMoFPXo     Directioner For Life   \n",
      "334  _2viQ_Qnc69Nq0Ytk1jCpzWPCrpGEk6T7cdVAxfSlAk          Shadrach Grentz   \n",
      "14         z13usjdoivinwzsoy04cgv2y0tbjs1s5xn00k         Karolína Hlavatá   \n",
      "238  _2viQ_Qnc680Rh_y5Dlwtkr_llWVOG7ZQdmNVip_dno                  Minh Lý   \n",
      "330  _2viQ_Qnc68LqKGb40V2ImKQYcp1ZqpHrCCMFqMCcA4          Shadrach Grentz   \n",
      "204  _2viQ_Qnc68jroUSzJhg6jrxFj86oxZrAtGB_PWbOm4            latrell brown   \n",
      "11         z12uf5gatnf1dflws04cfrigrxb3zryxtwk0k               Kevin Sosa   \n",
      "208  _2viQ_Qnc6-TLlBlT0itl1DbMJQGBx_6ZbscBXA3Nww                WhatUKnow   \n",
      "69           z12lth44woywehejy04cilgh2lejztjapi0         MOHAMED THASLEEM   \n",
      "323  _2viQ_Qnc69bp77hGJ6em0Gm1Fg_TLmNoUuS_ydlofg          TheEpicMixx':)x   \n",
      "\n",
      "                           DATE  \\\n",
      "9    2015-05-27T21:31:38.388000   \n",
      "139  2015-05-20T00:57:28.965000   \n",
      "348  2013-07-17T21:14:40.168000   \n",
      "89   2015-05-23T08:57:27.240000   \n",
      "337  2013-07-25T05:45:57.646000   \n",
      "44   2015-05-25T15:53:41.740000   \n",
      "138  2015-05-20T00:57:56.444000   \n",
      "3    2015-05-28T20:47:12.193000   \n",
      "60   2015-05-24T19:33:39.585000   \n",
      "130  2015-05-20T14:56:07.374000   \n",
      "37   2015-05-25T22:43:48.266000   \n",
      "200  2013-10-10T18:08:07.815000   \n",
      "234  2013-10-02T13:45:33.782000   \n",
      "30   2015-05-26T14:39:51.793000   \n",
      "87   2015-05-23T10:13:32.711000   \n",
      "13   2015-05-27T16:04:42.059000   \n",
      "231  2013-10-03T01:52:36.990000   \n",
      "103  2015-05-22T09:47:17.977000   \n",
      "347  2013-07-18T16:50:26.909000   \n",
      "131  2015-05-20T14:47:02.884000   \n",
      "224  2013-10-04T13:54:20.918000   \n",
      "334  2013-07-29T17:39:24.876000   \n",
      "14   2015-05-27T14:41:43.081000   \n",
      "238  2013-10-02T12:15:58.210000   \n",
      "330  2013-08-01T20:39:15.325000   \n",
      "204  2013-10-08T18:26:06.234000   \n",
      "11   2015-05-27T20:04:41.308000   \n",
      "208  2013-10-06T03:24:16.073000   \n",
      "69   2015-05-24T07:03:59.488000   \n",
      "323  2013-08-08T13:34:40.655000   \n",
      "\n",
      "                                               CONTENT  CLASS  \n",
      "9                                    I like shakira..﻿      0  \n",
      "139      Love this song so much! One of my faves! Xxx﻿      0  \n",
      "348                                                wow      0  \n",
      "89   Fuck it was the best ever 0687119038 nummber o...      1  \n",
      "337                               SUBSCRIBE MY CHANNEL      1  \n",
      "44        I really am madly in love with this woman!!﻿      0  \n",
      "138  It makes me happy instantly, and makes me forg...      0  \n",
      "3    860,000,000 lets make it first female to reach...      0  \n",
      "60                   Check out this video on YouTube:﻿      1  \n",
      "130                                 5 years ago damn ﻿      0  \n",
      "37                                     Love this song﻿      0  \n",
      "200  Hello Guys...I Found a Way to Make Money Onlin...      1  \n",
      "234                                        Shakira :-*      0  \n",
      "30        Whose who are watching this in 2015.  LIKE!﻿      0  \n",
      "87                                           GREAT!!!﻿      0  \n",
      "13                                          Love song﻿      0  \n",
      "231    Haha , Miley Cyrus has done it once again  T...      1  \n",
      "103                                        Cool song ﻿      0  \n",
      "347  Hi -this is Johnny: 1. If You already know my ...      1  \n",
      "131                                          Very nice      0  \n",
      "224                                 I remember this :D      0  \n",
      "334  Hey Music Fans I really appreciate any of you ...      1  \n",
      "14                                          wery good﻿      0  \n",
      "238  i like and love so much people all friends.......      0  \n",
      "330  Hey Music Fans I really appreciate any of you ...      1  \n",
      "204                         Check Out Daneja Good Girl      1  \n",
      "11                  Why so many disliked??????!!!!!!😯﻿      0  \n",
      "208                  Subscribe to my channel :)  &lt;3      1  \n",
      "69                                        super music﻿      0  \n",
      "323  I really ask nicely to view my vids:) I subscr...      1  \n"
     ]
    }
   ],
   "source": [
    "data = pd.read_csv(\"Youtube05-Shakira.csv\")\n",
    "print(data.sample(30))"
   ]
  },
  {
   "cell_type": "markdown",
   "id": "96a00ed0",
   "metadata": {},
   "source": [
    "We only need the content and class column from the dataset for the rest of the task. So let’s select both the columns and move further:"
   ]
  },
  {
   "cell_type": "code",
   "execution_count": 24,
   "id": "36556a42",
   "metadata": {},
   "outputs": [
    {
     "name": "stdout",
     "output_type": "stream",
     "text": [
      "                                               CONTENT  CLASS\n",
      "182                             OPPA GANGNAM STYLE!!!﻿      0\n",
      "215  Hello! I'm kind of new to Youtube, And soon i'...      1\n",
      "322            I think he was drunk during this :) x)﻿      0\n",
      "34                           2 billion....Coming soon﻿      0\n",
      "135                             Ahhh, 2 years ago....﻿      0\n",
      "..                                                 ...    ...\n",
      "92                          Check my channel, please!﻿      1\n",
      "327  https://www.facebook.com/FUDAIRYQUEEN?pnref=st...      1\n",
      "337  https://www.facebook.com/tofikmiedzynB/photos/...      1\n",
      "49   thumbs up if u checked this video to see hw vi...      0\n",
      "156    Search \"Chubbz Dinero - Ready Or Not \" Thanks ﻿      1\n",
      "\n",
      "[100 rows x 2 columns]\n"
     ]
    }
   ],
   "source": [
    "data = data[[\"CONTENT\", \"CLASS\"]]\n",
    "print(data.sample(100))"
   ]
  },
  {
   "cell_type": "markdown",
   "id": "de64f4da",
   "metadata": {},
   "source": [
    "The class column contains values 0 and 1. 0 indicates not spam, and 1 indicates spam. So to make it look better, I will use spam and not spam labels instead of 1 and 0:"
   ]
  },
  {
   "cell_type": "code",
   "execution_count": 25,
   "id": "57de1f3f",
   "metadata": {},
   "outputs": [
    {
     "name": "stdout",
     "output_type": "stream",
     "text": [
      "                                               CONTENT         CLASS\n",
      "42   SUBSCRIBE TO ME AND I'LL SUBSCRIBE TO YOU! (Mu...  Spam Comment\n",
      "149                Check me out I'm all about gaming ﻿  Spam Comment\n",
      "296  If i reach 100 subscribers i will tazz my self...  Spam Comment\n",
      "255  With the korean girl more slut and bitch : Hyu...      Not Spam\n",
      "142  pls http://www10.vakinha.com.br/VaquinhaE.aspx...  Spam Comment\n",
      "..                                                 ...           ...\n",
      "328  Haha its so funny to see the salt of westerner...      Not Spam\n",
      "285  If I knew Korean, this would be even funnier. ...      Not Spam\n",
      "53   https://www.facebook.com/pages/Brew-Crew-2014/...  Spam Comment\n",
      "69               It's been back for quite a while now.      Not Spam\n",
      "222  Is this the video that started the whole \"got ...      Not Spam\n",
      "\n",
      "[200 rows x 2 columns]\n"
     ]
    }
   ],
   "source": [
    "data[\"CLASS\"] = data[\"CLASS\"].map({0: \"Not Spam\",\n",
    "                                   1: \"Spam Comment\"})\n",
    "print(data.sample(200))"
   ]
  },
  {
   "cell_type": "markdown",
   "id": "433de53f",
   "metadata": {},
   "source": [
    "# Training a Classification Model\n",
    "Now let’s move further by training a classification Machine Learning model to classify spam and not spam comments. As this problem is a problem of binary classification, I will use the Bernoulli Naive Bayes algorithm to train the model:"
   ]
  },
  {
   "cell_type": "code",
   "execution_count": 26,
   "id": "86a936a6",
   "metadata": {},
   "outputs": [
    {
     "name": "stdout",
     "output_type": "stream",
     "text": [
      "0.9857142857142858\n"
     ]
    }
   ],
   "source": [
    "x = np.array(data[\"CONTENT\"])\n",
    "y = np.array(data[\"CLASS\"])\n",
    "\n",
    "cv = CountVectorizer()\n",
    "x = cv.fit_transform(x)\n",
    "xtrain, xtest, ytrain, ytest = train_test_split(x, y, \n",
    "                                                test_size=0.2, \n",
    "                                                random_state=42)\n",
    "\n",
    "model = BernoulliNB()\n",
    "model.fit(xtrain, ytrain)\n",
    "print(model.score(xtest, ytest))"
   ]
  },
  {
   "cell_type": "markdown",
   "id": "b7ceafa8",
   "metadata": {},
   "source": [
    "Now let’s test the model by giving spam and not spam comments as input:"
   ]
  },
  {
   "cell_type": "code",
   "execution_count": 27,
   "id": "e8cffca1",
   "metadata": {},
   "outputs": [
    {
     "name": "stdout",
     "output_type": "stream",
     "text": [
      "['Spam Comment']\n"
     ]
    }
   ],
   "source": [
    "sample = \"Check this out: https://thecleverprogrammer.com/\" \n",
    "data = cv.transform([sample]).toarray()\n",
    "print(model.predict(data))"
   ]
  },
  {
   "cell_type": "code",
   "execution_count": 28,
   "id": "4f14fa05",
   "metadata": {},
   "outputs": [
    {
     "name": "stdout",
     "output_type": "stream",
     "text": [
      "['Not Spam']\n"
     ]
    }
   ],
   "source": [
    "sample = \"Lack of information!\" \n",
    "data = cv.transform([sample]).toarray()\n",
    "print(model.predict(data)) "
   ]
  },
  {
   "cell_type": "markdown",
   "id": "7a7728cf",
   "metadata": {},
   "source": [
    "# Summary\n",
    "Spam comments detection means classifying comments as spam or not spam. Spam comments on social media platforms are the type of comments posted to redirect the user to another social media account, website or any piece of content."
   ]
  }
 ],
 "metadata": {
  "kernelspec": {
   "display_name": "Python 3 (ipykernel)",
   "language": "python",
   "name": "python3"
  },
  "language_info": {
   "codemirror_mode": {
    "name": "ipython",
    "version": 3
   },
   "file_extension": ".py",
   "mimetype": "text/x-python",
   "name": "python",
   "nbconvert_exporter": "python",
   "pygments_lexer": "ipython3",
   "version": "3.9.7"
  }
 },
 "nbformat": 4,
 "nbformat_minor": 5
}
