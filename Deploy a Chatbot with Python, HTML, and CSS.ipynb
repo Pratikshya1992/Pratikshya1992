{
 "cells": [
  {
   "cell_type": "markdown",
   "id": "54caf9e8",
   "metadata": {},
   "source": [
    "# Deploy a Chatbot with Python, HTML, and CSS\n",
    "A Chatbot is a computer program which is programmed to interact with a human. A chatbot is designed to reply to a human user based on their queries and conversations. If you think chatbots are a new technology, you’re wrong. The first chatbot, Eliza, was built in 1966 at MIT’s Artificial Intelligence Laboratory by Joseph Weizenbaum to mimic human conversations.\n",
    "\n",
    "What is the Chatterbot Library in Python? Chatterbot is a Python library that generates responses for users. It uses a lot of pre-trained machine learning algorithms to give a variety of responses. It’s easy to create chatbots using the chatterbot library in Python. The chatbot should be designed to be language-independent. He must be trained in several languages. The chatbot is made up of data provided by the user. How to Deploy a Chatbot? In python, we have Flask, which is useful in the tasks of web development of any program. In one of my previous articles, I deployed a Machine Learning model using flask, I will use the same method to deploy a chatbot.\n",
    "\n",
    "As I am going to deploy chatbot as a web application, so it is not possible to deploy it without the use of HTML and CSS as these two are the primary packages when it comes to the tasks of web development. So, I will recommend you to learn HTML and CSS also if you are planning to work as a developer.\n",
    "\n",
    "How to Deploy a Chatbot? In python, we have Flask, which is useful in the tasks of web development of any program. In one of my previous articles, I deployed a Machine Learning model using flask, I will use the same method to deploy a chatbot.\n",
    "\n",
    "As I am going to deploy chatbot as a web application, so it is not possible to deploy it without the use of HTML and CSS as these two are the primary packages when it comes to the tasks of web development.\n",
    "\n",
    "Now, let’s code to build and deploy a chatbot. I will start with the HTML and CSS part, as it will work as the base of our chatbot, without the base we cannot start with the project. So now let’s start with the code:"
   ]
  },
  {
   "cell_type": "markdown",
   "id": "9a958133",
   "metadata": {},
   "source": [
    "index.html"
   ]
  },
  {
   "cell_type": "code",
   "execution_count": null,
   "id": "082484c3",
   "metadata": {},
   "outputs": [],
   "source": [
    "<!DOCTYPE html>\n",
    "<html>\n",
    "<head>\n",
    "    <meta charset=\"utf-8\">\n",
    "    <meta name=\"viewport\" content=\"width=device-width, initial-scale=1, shrink-to-fit=no\">\n",
    "    <link rel=\"stylesheet\" href=\"https://maxcdn.bootstrapcdn.com/bootstrap/4.3.1/css/bootstrap.min.css\">\n",
    "    <link rel=\"stylesheet\" href=\"/static/style.css\">\n",
    "    <script src=\"https://ajax.googleapis.com/ajax/libs/jquery/3.2.1/jquery.min.js\"></script>\n",
    "</head>\n",
    "<body>\n",
    "    <h1 class=\"jumbotron text-center\">AI Chatbot with Python</h1>\n",
    "<div class=\"container\">\n",
    "    <div class=\"row\">\n",
    "        <div class=\"col-sm-6 offset-sm-3\">\n",
    "            <div id=\"chatbox\" class=\"border border-success\">\n",
    "                <p class=\"botText\"><span>Hi! I'm Chatterbot</span></p>\n",
    "            </div>\n",
    "            <div id=\"userInput\">\n",
    "                <input id=\"textInput\" class=\"form-control\" type=\"text\" name=\"msg\" placeholder=\"Type Your Message Here\">\n",
    "                <input id=\"buttonInput\" class=\"btn btn-success form-control\" type=\"submit\" value=\"Send\">\n",
    "            </div>\n",
    "        </div>\n",
    "    </div>\n",
    "\n",
    "<script>\n",
    "    function getResponse() {\n",
    "        let userText = $(\"#textInput\").val();\n",
    "        let userHtml = '<p class=\"userText\"><span>' + userText + '</span></p>';\n",
    "        $(\"#textInput\").val(\"\");\n",
    "        $(\"#chatbox\").append(userHtml);\n",
    "        document.getElementById('userInput').scrollIntoView({block: 'start', behavior: 'smooth'});\n",
    "        $.get(\"/get\", { msg: userText }).done(function(data) {\n",
    "        var botHtml = '<p class=\"botText\"><span>' + data + '</span></p>';\n",
    "        $(\"#chatbox\").append(botHtml);\n",
    "        document.getElementById('userInput').scrollIntoView({block: 'start', behavior: 'smooth'});\n",
    "});\n",
    "}\n",
    "    $(\"#textInput\").keypress(function(e) {\n",
    "    //if enter key is pressed\n",
    "        if(e.which == 13) {\n",
    "            getResponse();\n",
    "        }\n",
    "    });\n",
    "    $(\"#buttonInput\").click(function() {\n",
    "        getResponse();\n",
    "    });\n",
    "    </script>\n",
    "    <script src=\"https://ajax.googleapis.com/ajax/libs/jquery/3.4.1/jquery.min.js\"></script>\n",
    "    <script src=\"https://cdnjs.cloudflare.com/ajax/libs/popper.js/1.14.7/umd/popper.min.js\"></script>\n",
    "    <script src=\"https://maxcdn.bootstrapcdn.com/bootstrap/4.3.1/js/bootstrap.min.js\"></script>\n",
    "</div>\n",
    "</body>\n",
    "</html>"
   ]
  },
  {
   "cell_type": "markdown",
   "id": "50b65faa",
   "metadata": {},
   "source": [
    "style.css"
   ]
  },
  {
   "cell_type": "code",
   "execution_count": 6,
   "id": "fc0f5ec7",
   "metadata": {},
   "outputs": [
    {
     "ename": "IndentationError",
     "evalue": "unexpected indent (Temp/ipykernel_4764/2723601964.py, line 2)",
     "output_type": "error",
     "traceback": [
      "\u001b[1;36m  File \u001b[1;32m\"C:\\Users\\hp\\AppData\\Local\\Temp/ipykernel_4764/2723601964.py\"\u001b[1;36m, line \u001b[1;32m2\u001b[0m\n\u001b[1;33m    border: none;\u001b[0m\n\u001b[1;37m    ^\u001b[0m\n\u001b[1;31mIndentationError\u001b[0m\u001b[1;31m:\u001b[0m unexpected indent\n"
     ]
    }
   ],
   "source": [
    "#textInput {\n",
    "    border: none;\n",
    "    border-bottom: 3px solid aqua;\n",
    "}\n",
    "\n",
    ".userText {\n",
    "    color: white;\n",
    "    font-family: monospace;\n",
    "    font-size: 17px;\n",
    "    text-align: right;\n",
    "    line-height: 30px;\n",
    "}\n",
    ".userText span {\n",
    "    background-color: #009688;\n",
    "    padding: 10px;\n",
    "    border-radius: 2px;\n",
    "}\n",
    ".botText {\n",
    "    color: white;\n",
    "    font-family: monospace;\n",
    "    font-size: 17px;\n",
    "    text-align: left;\n",
    "    line-height: 30px;\n",
    "}\n",
    ".botText span {\n",
    "    background-color: #EF5350;\n",
    "    padding: 10px;\n",
    "    border-radius: 2px;\n",
    "}"
   ]
  },
  {
   "cell_type": "markdown",
   "id": "e7625f47",
   "metadata": {},
   "source": [
    "app.py"
   ]
  },
  {
   "cell_type": "code",
   "execution_count": 3,
   "id": "2bc0d005",
   "metadata": {},
   "outputs": [
    {
     "ename": "ModuleNotFoundError",
     "evalue": "No module named 'chatterbot'",
     "output_type": "error",
     "traceback": [
      "\u001b[1;31m---------------------------------------------------------------------------\u001b[0m",
      "\u001b[1;31mModuleNotFoundError\u001b[0m                       Traceback (most recent call last)",
      "\u001b[1;32m~\\AppData\\Local\\Temp/ipykernel_4764/4244174745.py\u001b[0m in \u001b[0;36m<module>\u001b[1;34m\u001b[0m\n\u001b[0;32m      1\u001b[0m \u001b[1;31m#imports\u001b[0m\u001b[1;33m\u001b[0m\u001b[1;33m\u001b[0m\u001b[0m\n\u001b[0;32m      2\u001b[0m \u001b[1;32mfrom\u001b[0m \u001b[0mflask\u001b[0m \u001b[1;32mimport\u001b[0m \u001b[0mFlask\u001b[0m\u001b[1;33m,\u001b[0m \u001b[0mrender_template\u001b[0m\u001b[1;33m,\u001b[0m \u001b[0mrequest\u001b[0m\u001b[1;33m\u001b[0m\u001b[1;33m\u001b[0m\u001b[0m\n\u001b[1;32m----> 3\u001b[1;33m \u001b[1;32mfrom\u001b[0m \u001b[0mchatterbot\u001b[0m \u001b[1;32mimport\u001b[0m \u001b[0mChatBot\u001b[0m\u001b[1;33m\u001b[0m\u001b[1;33m\u001b[0m\u001b[0m\n\u001b[0m\u001b[0;32m      4\u001b[0m \u001b[1;32mfrom\u001b[0m \u001b[0mchatterbot\u001b[0m\u001b[1;33m.\u001b[0m\u001b[0mtrainers\u001b[0m \u001b[1;32mimport\u001b[0m \u001b[0mChatterBotCorpusTrainer\u001b[0m\u001b[1;33m\u001b[0m\u001b[1;33m\u001b[0m\u001b[0m\n\u001b[0;32m      5\u001b[0m \u001b[1;33m\u001b[0m\u001b[0m\n",
      "\u001b[1;31mModuleNotFoundError\u001b[0m: No module named 'chatterbot'"
     ]
    }
   ],
   "source": [
    "#imports\n",
    "from flask import Flask, render_template, request\n",
    "from chatterbot import ChatBot\n",
    "from chatterbot.trainers import ChatterBotCorpusTrainer\n",
    "\n",
    "app = Flask(__name__)\n",
    "#create chatbot\n",
    "englishBot = ChatBot(\"Chatterbot\", storage_adapter=\"chatterbot.storage.SQLStorageAdapter\")\n",
    "trainer = ChatterBotCorpusTrainer(englishBot)\n",
    "trainer.train(\"chatterbot.corpus.english\") #train the chatter bot for english\n",
    "\n",
    "#define app routes\n",
    "@app.route(\"/\")\n",
    "def index():\n",
    "    return render_template(\"index.html\")\n",
    "\n",
    "@app.route(\"/get\")\n",
    "#function for the bot response\n",
    "def get_bot_response():\n",
    "    userText = request.args.get('msg')\n",
    "    return str(englishBot.get_response(userText))\n",
    "\n",
    "if __name__ == \"__main__\":\n",
    "    app.run()"
   ]
  },
  {
   "cell_type": "code",
   "execution_count": null,
   "id": "8b5fe3ab",
   "metadata": {},
   "outputs": [],
   "source": []
  }
 ],
 "metadata": {
  "kernelspec": {
   "display_name": "Python 3 (ipykernel)",
   "language": "python",
   "name": "python3"
  },
  "language_info": {
   "codemirror_mode": {
    "name": "ipython",
    "version": 3
   },
   "file_extension": ".py",
   "mimetype": "text/x-python",
   "name": "python",
   "nbconvert_exporter": "python",
   "pygments_lexer": "ipython3",
   "version": "3.9.7"
  }
 },
 "nbformat": 4,
 "nbformat_minor": 5
}
