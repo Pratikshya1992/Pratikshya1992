{
 "cells": [
  {
   "cell_type": "markdown",
   "id": "99ca9f27",
   "metadata": {},
   "source": [
    "Importing the random and time libraries:"
   ]
  },
  {
   "cell_type": "markdown",
   "id": "ca540cd2",
   "metadata": {},
   "source": [
    "# Code Explanation:\n",
    "\n",
    "#Import random: This is used to randomly choose an item from a list [] or basically a sequence.\n",
    "#Import time: This module is used to import the actual time from your pc to use in the program.\n",
    "#Time.sleep(): This is used to halt the execution of the program for a few seconds. It is a fun way to put the user of the game in short suspense."
   ]
  },
  {
   "cell_type": "code",
   "execution_count": null,
   "id": "44605c19",
   "metadata": {},
   "outputs": [],
   "source": [
    "import random\n",
    "import time\n",
    "\n",
    "# Initial Steps to invite in the game:\n",
    "print(\"\\nWelcome to Hangman game by Google\\n\")\n",
    "name = input(\"Enter your name: \")\n",
    "print(\"Hello \" + name + \"! Best of Luck!\")\n",
    "time.sleep(2)\n",
    "print(\"The game is about to start!\\n Let's play Hangman!\")\n",
    "time.sleep(3)"
   ]
  },
  {
   "cell_type": "markdown",
   "id": "ddb0b77f",
   "metadata": {},
   "source": [
    "# Define the main function:"
   ]
  },
  {
   "cell_type": "markdown",
   "id": "02bd8fb8",
   "metadata": {},
   "source": [
    "#We define the main function that initializes the arguments: global count, global display, global word, global already_guessed, global length and global play_game. They can be used further in other functions too depending on how we want to call them.\n",
    "\n",
    "Words_to_guess: Contains all the Hangman words we want the user to guess in the game.\n",
    "Word: we use the random module in this variable to randomly choose the word from words_to_guess in the game.\n",
    "Length: len() helps us to get the length of the string.\n",
    "Count: is initialized to zero and would increment in the further code.\n",
    "Display: This draws a line for us according to the length of the word to guess.\n",
    "Already_guessed: This would contain the string indices of the correctly guessed words."
   ]
  },
  {
   "cell_type": "code",
   "execution_count": 29,
   "id": "d7dd2af0",
   "metadata": {},
   "outputs": [],
   "source": [
    "def main():\n",
    "    global count\n",
    "    global display\n",
    "    global word\n",
    "    global already_guessed\n",
    "    global length\n",
    "    global play_game\n",
    "    words_to_guess = [\"january\",\"border\",\"image\",\"film\",\"promise\",\"kids\",\"lungs\",\"doll\",\"rhyme\",\"damage\",\"plants\"]\n",
    "    word = random.choice(words_to_guess)\n",
    "    length = len(word)\n",
    "    count = 0\n",
    "    display = '_' * length\n",
    "    already_guessed = []\n",
    "    play_game = \"\""
   ]
  },
  {
   "cell_type": "markdown",
   "id": "7e3c56df",
   "metadata": {},
   "source": [
    "# Code Explanation:"
   ]
  },
  {
   "cell_type": "markdown",
   "id": "f5589346",
   "metadata": {},
   "source": [
    "Play_loop: This function takes in the argument of play_game.\n",
    "Play_game: We use this argument to either continue the game after it is played once or end it according to what the user suggests.\n",
    "While loop is used to execute the play_game argument. It takes the parameter, y=yes and n=no. If the user gives an input of something else other than y/n, it asks the question again for the appropriate answer. If the user inputs “y”, the game restarts, otherwise the game ends."
   ]
  },
  {
   "cell_type": "markdown",
   "id": "f784a611",
   "metadata": {},
   "source": [
    "Develop a loop to execute the game again:"
   ]
  },
  {
   "cell_type": "code",
   "execution_count": null,
   "id": "f323fa3e",
   "metadata": {},
   "outputs": [],
   "source": [
    "# A loop to re-execute the game when the first round ends:\n",
    "def play_loop():\n",
    "    global play_game\n",
    "    play_game = input(\"Do You want to play again? y = yes, n = no \\n\")\n",
    "    while play_game not in [\"y\", \"n\",\"Y\",\"N\"]:\n",
    "        play_game = input(\"Do You want to play again? y = yes, n = no \\n\")\n",
    "    if play_game == \"y\":\n",
    "        main()\n",
    "    elif play_game == \"n\":\n",
    "        print(\"Thanks For Playing! We expect you back again!\")\n",
    "        exit()"
   ]
  },
  {
   "cell_type": "markdown",
   "id": "e43f6d6a",
   "metadata": {},
   "source": [
    "# Initialize conditions for hangman game:"
   ]
  },
  {
   "cell_type": "markdown",
   "id": "f73d6b6e",
   "metadata": {},
   "source": [
    "We call all the arguments again under the hangman() function.\n",
    "Limit: It is the maximum guesses we provide to the user to guess a particular word.\n",
    "Guess: Takes the input from the user for the guessed letter. Guess.strip() removes the letter from the given word.\n",
    "If loop checks that if no input is given, or two letters are given at once, or a number is entered as an input, it tells the user about the invalid input and executes hangman again."
   ]
  },
  {
   "cell_type": "code",
   "execution_count": null,
   "id": "6e77c742",
   "metadata": {},
   "outputs": [],
   "source": [
    "# Initializing all the conditions required for the game:\n",
    "def hangman():\n",
    "    global count\n",
    "    global display\n",
    "    global word\n",
    "    global already_guessed\n",
    "    global play_game\n",
    "    limit = 5\n",
    "    guess = input(\"This is the Hangman Word: \" + display + \" Enter your guess: \\n\")\n",
    "    guess = guess.strip()\n",
    "    if len(guess.strip()) == 0 or len(guess.strip()) >= 2 or guess <= \"9\":\n",
    "        print(\"Invalid Input, Try a letter\\n\")\n",
    "        hangman()"
   ]
  },
  {
   "cell_type": "markdown",
   "id": "5a92e59a",
   "metadata": {},
   "source": [
    "# The rest of the whole hangman program combined together:"
   ]
  },
  {
   "cell_type": "markdown",
   "id": "a0daf5af",
   "metadata": {},
   "source": [
    "If the letter is correctly guessed, index searches for that letter in the word.\n",
    "Display adds that letter in the given space according to its index or where it belongs in the given word.\n",
    "If we have already guessed the correct letter before and we guess it again, It tells the user to try again and does not lessen any chances.\n",
    "If the user guessed the wrong letter, the hangman starts to appear which also tells us how many guesses are left. Count was initialized to zero and so with every wrong guess its value increases with one.\n",
    "Limit is set to 5 and so (limit- count) is the guesses left for the user with every wrong input. If it reaches the limit, the game ends, showing the right guesses (if any) and the word that was supposed to be guessed.\n",
    "If the word is guessed correctly, matching the length of the display argument, the user has won the game.\n",
    "Play_loop asks the user to play the game again or exit.\n",
    "Main() and hangman() would start again if the play_loop executes to yes."
   ]
  },
  {
   "cell_type": "code",
   "execution_count": 32,
   "id": "f32d2336",
   "metadata": {},
   "outputs": [
    {
     "ename": "IndentationError",
     "evalue": "unindent does not match any outer indentation level (<tokenize>, line 8)",
     "output_type": "error",
     "traceback": [
      "\u001b[1;36m  File \u001b[1;32m\"<tokenize>\"\u001b[1;36m, line \u001b[1;32m8\u001b[0m\n\u001b[1;33m    elif guess in already_guessed:\u001b[0m\n\u001b[1;37m    ^\u001b[0m\n\u001b[1;31mIndentationError\u001b[0m\u001b[1;31m:\u001b[0m unindent does not match any outer indentation level\n"
     ]
    }
   ],
   "source": [
    "elif guess in word:\n",
    "        already_guessed.extend([guess])\n",
    "        index = word.find(guess)\n",
    "        word = word[:index] + \"_\" + word[index + 1:]\n",
    "        display = display[:index] + guess + display[index + 1:]\n",
    "        print(display + \"\\n\")\n",
    "\n",
    "    elif guess in already_guessed:\n",
    "        print(\"Try another letter.\\n\")\n",
    "\n",
    "    else:\n",
    "        count += 1\n",
    "\n",
    "        if count == 1:\n",
    "            time.sleep(1)\n",
    "            print(\"   _____ \\n\"\n",
    "                  \"  |      \\n\"\n",
    "                  \"  |      \\n\"\n",
    "                  \"  |      \\n\"\n",
    "                  \"  |      \\n\"\n",
    "                  \"  |      \\n\"\n",
    "                  \"  |      \\n\"\n",
    "                  \"__|__\\n\")\n",
    "            print(\"Wrong guess. \" + str(limit - count) + \" guesses remaining\\n\")\n",
    "\n",
    "        elif count == 2:\n",
    "            time.sleep(1)\n",
    "            print(\"   _____ \\n\"\n",
    "                  \"  |     | \\n\"\n",
    "                  \"  |     |\\n\"\n",
    "                  \"  |      \\n\"\n",
    "                  \"  |      \\n\"\n",
    "                  \"  |      \\n\"\n",
    "                  \"  |      \\n\"\n",
    "                  \"__|__\\n\")\n",
    "            print(\"Wrong guess. \" + str(limit - count) + \" guesses remaining\\n\")\n",
    "\n",
    "        elif count == 3:\n",
    "           time.sleep(1)\n",
    "           print(\"   _____ \\n\"\n",
    "                 \"  |     | \\n\"\n",
    "                 \"  |     |\\n\"\n",
    "                 \"  |     | \\n\"\n",
    "                 \"  |      \\n\"\n",
    "                 \"  |      \\n\"\n",
    "                 \"  |      \\n\"\n",
    "                 \"__|__\\n\")\n",
    "           print(\"Wrong guess. \" + str(limit - count) + \" guesses remaining\\n\")\n",
    "\n",
    "        elif count == 4:\n",
    "            time.sleep(1)\n",
    "            print(\"   _____ \\n\"\n",
    "                  \"  |     | \\n\"\n",
    "                  \"  |     |\\n\"\n",
    "                  \"  |     | \\n\"\n",
    "                  \"  |     O \\n\"\n",
    "                  \"  |      \\n\"\n",
    "                  \"  |      \\n\"\n",
    "                  \"__|__\\n\")\n",
    "            print(\"Wrong guess. \" + str(limit - count) + \" last guess remaining\\n\")\n",
    "\n",
    "        elif count == 5:\n",
    "            time.sleep(1)\n",
    "            print(\"   _____ \\n\"\n",
    "                  \"  |     | \\n\"\n",
    "                  \"  |     |\\n\"\n",
    "                  \"  |     | \\n\"\n",
    "                  \"  |     O \\n\"\n",
    "                  \"  |    /|\\ \\n\"\n",
    "                  \"  |    / \\ \\n\"\n",
    "                  \"__|__\\n\")\n",
    "            print(\"Wrong guess. You are hanged!!!\\n\")\n",
    "            print(\"The word was:\",already_guessed,word)\n",
    "            play_loop()\n",
    "\n",
    "    if word == '_' * length:\n",
    "        print(\"Congrats! You have guessed the word correctly!\")\n",
    "        play_loop()\n",
    "\n",
    "    elif count != limit:\n",
    "        hangman()\n",
    "\n",
    "\n",
    "main()\n",
    "\n",
    "hangman()"
   ]
  }
 ],
 "metadata": {
  "kernelspec": {
   "display_name": "Python 3 (ipykernel)",
   "language": "python",
   "name": "python3"
  },
  "language_info": {
   "codemirror_mode": {
    "name": "ipython",
    "version": 3
   },
   "file_extension": ".py",
   "mimetype": "text/x-python",
   "name": "python",
   "nbconvert_exporter": "python",
   "pygments_lexer": "ipython3",
   "version": "3.9.7"
  }
 },
 "nbformat": 4,
 "nbformat_minor": 5
}
